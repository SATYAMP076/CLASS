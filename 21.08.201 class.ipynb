{
 "cells": [
  {
   "cell_type": "markdown",
   "id": "fda89d41",
   "metadata": {},
   "source": [
    "# break(#stop loop)"
   ]
  },
  {
   "cell_type": "code",
   "execution_count": 1,
   "id": "40c83f10",
   "metadata": {},
   "outputs": [
    {
     "name": "stdout",
     "output_type": "stream",
     "text": [
      "satyam\n",
      "shivam\n",
      "shivani\n",
      "salni\n"
     ]
    }
   ],
   "source": [
    "name=['satyam','shivam','shivani','salni','aman','khushi']\n",
    "\n",
    "for val in name:\n",
    "    if val=='aman':\n",
    "        break\n",
    "    print(val)"
   ]
  },
  {
   "cell_type": "code",
   "execution_count": 2,
   "id": "0959f62f",
   "metadata": {},
   "outputs": [
    {
     "name": "stdout",
     "output_type": "stream",
     "text": [
      "20000\n",
      "40000\n"
     ]
    }
   ],
   "source": [
    "salry=[20000,40000,50000,60000,70000]\n",
    "for val in salry:\n",
    "    if val==50000:\n",
    "        break\n",
    "    print(val)"
   ]
  },
  {
   "cell_type": "markdown",
   "id": "aa2e72be",
   "metadata": {},
   "source": [
    "# continue(#skip value)"
   ]
  },
  {
   "cell_type": "code",
   "execution_count": 3,
   "id": "61bbcd42",
   "metadata": {},
   "outputs": [
    {
     "name": "stdout",
     "output_type": "stream",
     "text": [
      "satyam\n",
      "shivam\n",
      "shivani\n",
      "salni\n",
      "aman\n",
      "khushi\n"
     ]
    }
   ],
   "source": [
    "name=['satyam','shivam','shivani','nikita','salni','aman','khushi']\n",
    "for val in name:\n",
    "    if val=='nikita':\n",
    "        continue\n",
    "    print(val)"
   ]
  },
  {
   "cell_type": "code",
   "execution_count": 4,
   "id": "dac065fc",
   "metadata": {},
   "outputs": [
    {
     "name": "stdout",
     "output_type": "stream",
     "text": [
      "20000\n",
      "40000\n",
      "60000\n",
      "70000\n"
     ]
    }
   ],
   "source": [
    "salry=[20000,40000,50000,60000,70000]\n",
    "for val in salry:\n",
    "    if val==50000:\n",
    "        continue\n",
    "    print(val)"
   ]
  },
  {
   "cell_type": "markdown",
   "id": "8e6ebba0",
   "metadata": {},
   "source": [
    "# range"
   ]
  },
  {
   "cell_type": "code",
   "execution_count": 5,
   "id": "8c06ba84",
   "metadata": {},
   "outputs": [],
   "source": [
    "#range has 3 component start, stop ,step"
   ]
  },
  {
   "cell_type": "code",
   "execution_count": 6,
   "id": "c6e37088",
   "metadata": {},
   "outputs": [
    {
     "name": "stdout",
     "output_type": "stream",
     "text": [
      "range(0, 10)\n"
     ]
    }
   ],
   "source": [
    "print(range(10))"
   ]
  },
  {
   "cell_type": "code",
   "execution_count": 7,
   "id": "579d1965",
   "metadata": {},
   "outputs": [
    {
     "name": "stdout",
     "output_type": "stream",
     "text": [
      "[0, 1, 2, 3, 4, 5, 6, 7, 8, 9]\n"
     ]
    }
   ],
   "source": [
    "print(list(range(10)))# only stop no."
   ]
  },
  {
   "cell_type": "code",
   "execution_count": 8,
   "id": "6507788a",
   "metadata": {},
   "outputs": [
    {
     "name": "stdout",
     "output_type": "stream",
     "text": [
      "[1, 2, 3, 4, 5, 6, 7, 8, 9]\n"
     ]
    }
   ],
   "source": [
    "print(list(range(1,10)))# start and stop no."
   ]
  },
  {
   "cell_type": "code",
   "execution_count": 9,
   "id": "ca1e6782",
   "metadata": {},
   "outputs": [
    {
     "name": "stdout",
     "output_type": "stream",
     "text": [
      "[1, 9, 17, 25, 33, 41, 49]\n"
     ]
    }
   ],
   "source": [
    "print(list(range(1,50,8)))# start , stop and step no."
   ]
  },
  {
   "cell_type": "code",
   "execution_count": 10,
   "id": "c0276c5c",
   "metadata": {},
   "outputs": [
    {
     "name": "stdout",
     "output_type": "stream",
     "text": [
      "[100, 200, 300, 400, 500, 600, 700, 800, 900, 1000, 1100, 1200, 1300, 1400, 1500, 1600, 1700, 1800, 1900, 2000]\n"
     ]
    }
   ],
   "source": [
    "print(list(range(100,2001,100)))"
   ]
  },
  {
   "cell_type": "code",
   "execution_count": 11,
   "id": "908fdb70",
   "metadata": {},
   "outputs": [
    {
     "name": "stdout",
     "output_type": "stream",
     "text": [
      "[2001, 1901, 1801, 1701, 1601, 1501, 1401, 1301, 1201, 1101, 1001, 901, 801, 701, 601, 501, 401, 301, 201, 101]\n"
     ]
    }
   ],
   "source": [
    "print(list(range(2001,100,-100)))  "
   ]
  },
  {
   "cell_type": "code",
   "execution_count": 12,
   "id": "569cae49",
   "metadata": {},
   "outputs": [],
   "source": [
    "s = 'satyam patel'"
   ]
  },
  {
   "cell_type": "code",
   "execution_count": 13,
   "id": "7333ecb7",
   "metadata": {},
   "outputs": [
    {
     "data": {
      "text/plain": [
       "'satyam patel'"
      ]
     },
     "execution_count": 13,
     "metadata": {},
     "output_type": "execute_result"
    }
   ],
   "source": [
    "s"
   ]
  },
  {
   "cell_type": "code",
   "execution_count": 14,
   "id": "76a97ce7",
   "metadata": {},
   "outputs": [
    {
     "name": "stdout",
     "output_type": "stream",
     "text": [
      "satyam patel\n"
     ]
    }
   ],
   "source": [
    "print(s)"
   ]
  },
  {
   "cell_type": "code",
   "execution_count": 15,
   "id": "6a9404d9",
   "metadata": {},
   "outputs": [
    {
     "data": {
      "text/plain": [
       "'satyam patel'"
      ]
     },
     "execution_count": 15,
     "metadata": {},
     "output_type": "execute_result"
    }
   ],
   "source": [
    "s[:]"
   ]
  },
  {
   "cell_type": "code",
   "execution_count": 16,
   "id": "465e947f",
   "metadata": {},
   "outputs": [
    {
     "data": {
      "text/plain": [
       "'s'"
      ]
     },
     "execution_count": 16,
     "metadata": {},
     "output_type": "execute_result"
    }
   ],
   "source": [
    "s[0]"
   ]
  },
  {
   "cell_type": "code",
   "execution_count": 17,
   "id": "60c43089",
   "metadata": {},
   "outputs": [
    {
     "data": {
      "text/plain": [
       "' '"
      ]
     },
     "execution_count": 17,
     "metadata": {},
     "output_type": "execute_result"
    }
   ],
   "source": [
    "s[6]"
   ]
  },
  {
   "cell_type": "code",
   "execution_count": 18,
   "id": "bd1fe106",
   "metadata": {},
   "outputs": [
    {
     "data": {
      "text/plain": [
       "'tyam patel'"
      ]
     },
     "execution_count": 18,
     "metadata": {},
     "output_type": "execute_result"
    }
   ],
   "source": [
    "s[2:]"
   ]
  },
  {
   "cell_type": "code",
   "execution_count": 19,
   "id": "7f37cc34",
   "metadata": {},
   "outputs": [
    {
     "data": {
      "text/plain": [
       "'satyam pate'"
      ]
     },
     "execution_count": 19,
     "metadata": {},
     "output_type": "execute_result"
    }
   ],
   "source": [
    "s[ :11]"
   ]
  },
  {
   "cell_type": "code",
   "execution_count": 20,
   "id": "0a8f693e",
   "metadata": {},
   "outputs": [
    {
     "data": {
      "text/plain": [
       "'m p'"
      ]
     },
     "execution_count": 20,
     "metadata": {},
     "output_type": "execute_result"
    }
   ],
   "source": [
    "s[5:8]"
   ]
  },
  {
   "cell_type": "code",
   "execution_count": 21,
   "id": "a4b45fab",
   "metadata": {},
   "outputs": [
    {
     "data": {
      "text/plain": [
       "'l'"
      ]
     },
     "execution_count": 21,
     "metadata": {},
     "output_type": "execute_result"
    }
   ],
   "source": [
    "s[-1]"
   ]
  },
  {
   "cell_type": "code",
   "execution_count": 22,
   "id": "ef6d6e48",
   "metadata": {},
   "outputs": [
    {
     "data": {
      "text/plain": [
       "'satyam pate'"
      ]
     },
     "execution_count": 22,
     "metadata": {},
     "output_type": "execute_result"
    }
   ],
   "source": [
    "s[:-1]"
   ]
  },
  {
   "cell_type": "code",
   "execution_count": 23,
   "id": "b3c8d588",
   "metadata": {},
   "outputs": [
    {
     "data": {
      "text/plain": [
       "'tyam pate'"
      ]
     },
     "execution_count": 23,
     "metadata": {},
     "output_type": "execute_result"
    }
   ],
   "source": [
    "s[-10:-1:]"
   ]
  },
  {
   "cell_type": "code",
   "execution_count": 24,
   "id": "c30c51ac",
   "metadata": {},
   "outputs": [
    {
     "data": {
      "text/plain": [
       "'aap'"
      ]
     },
     "execution_count": 24,
     "metadata": {},
     "output_type": "execute_result"
    }
   ],
   "source": [
    "s[1:10:3]"
   ]
  },
  {
   "cell_type": "code",
   "execution_count": 25,
   "id": "f86fb7a4",
   "metadata": {},
   "outputs": [
    {
     "data": {
      "text/plain": [
       "'satyam patel'"
      ]
     },
     "execution_count": 25,
     "metadata": {},
     "output_type": "execute_result"
    }
   ],
   "source": [
    "s"
   ]
  },
  {
   "cell_type": "code",
   "execution_count": 26,
   "id": "86a204a2",
   "metadata": {},
   "outputs": [
    {
     "data": {
      "text/plain": [
       "'ltpmy'"
      ]
     },
     "execution_count": 26,
     "metadata": {},
     "output_type": "execute_result"
    }
   ],
   "source": [
    "s[:1:-2]#when step size in - it's start reverse0"
   ]
  },
  {
   "cell_type": "code",
   "execution_count": 27,
   "id": "7d126736",
   "metadata": {},
   "outputs": [
    {
     "data": {
      "text/plain": [
       "'sta ae'"
      ]
     },
     "execution_count": 27,
     "metadata": {},
     "output_type": "execute_result"
    }
   ],
   "source": [
    "s[:12:2]"
   ]
  },
  {
   "cell_type": "markdown",
   "id": "0cb75ba2",
   "metadata": {},
   "source": [
    "# functions"
   ]
  },
  {
   "cell_type": "markdown",
   "id": "e8a44c1b",
   "metadata": {},
   "source": [
    "###  def  statements"
   ]
  },
  {
   "cell_type": "code",
   "execution_count": 28,
   "id": "6329b5f8",
   "metadata": {},
   "outputs": [],
   "source": [
    "def name_of_fuction(arg1,arg2):#arg=argument\n",
    "    '''\n",
    "    this is where the function's document string(doc-string)goes \n",
    "    '''"
   ]
  },
  {
   "cell_type": "code",
   "execution_count": 29,
   "id": "e57fe376",
   "metadata": {},
   "outputs": [],
   "source": [
    "def say_hello():\n",
    "    \n",
    "    \n",
    "    print('this is working')   "
   ]
  },
  {
   "cell_type": "code",
   "execution_count": 30,
   "id": "b82aa8d9",
   "metadata": {},
   "outputs": [
    {
     "name": "stdout",
     "output_type": "stream",
     "text": [
      "this is working\n"
     ]
    }
   ],
   "source": [
    "#call the function\n",
    "say_hello()"
   ]
  },
  {
   "cell_type": "code",
   "execution_count": 31,
   "id": "54665672",
   "metadata": {},
   "outputs": [],
   "source": [
    "def greeting(name):\n",
    "#    print('hello',name)\n",
    "    print('hello %s' %name)"
   ]
  },
  {
   "cell_type": "code",
   "execution_count": 32,
   "id": "c7b890fe",
   "metadata": {},
   "outputs": [
    {
     "name": "stdout",
     "output_type": "stream",
     "text": [
      "hello satyam\n"
     ]
    }
   ],
   "source": [
    "greeting('satyam')"
   ]
  },
  {
   "cell_type": "code",
   "execution_count": 33,
   "id": "ef1545a8",
   "metadata": {},
   "outputs": [],
   "source": [
    "def sum(a,b):  \n",
    "    print(a+b)\n",
    "def dif(a,b):\n",
    "    print(a-b)\n",
    "def multipal(a,b):\n",
    "    print(a*b)\n",
    "def divaid(a,b):\n",
    "    print(a/b)\n",
    "def rimainder(a,b):\n",
    "    print(a%b)    "
   ]
  },
  {
   "cell_type": "code",
   "execution_count": 34,
   "id": "ddb6490c",
   "metadata": {},
   "outputs": [
    {
     "name": "stdout",
     "output_type": "stream",
     "text": [
      "30\n"
     ]
    }
   ],
   "source": [
    "sum(10,20)"
   ]
  },
  {
   "cell_type": "code",
   "execution_count": 35,
   "id": "f2ded763",
   "metadata": {},
   "outputs": [],
   "source": [
    "def add(a,b):\n",
    "    return(a+b)"
   ]
  },
  {
   "cell_type": "code",
   "execution_count": 36,
   "id": "de8087b3",
   "metadata": {},
   "outputs": [],
   "source": [
    "sa=add(20,30)"
   ]
  },
  {
   "cell_type": "code",
   "execution_count": 37,
   "id": "e72c82d6",
   "metadata": {},
   "outputs": [
    {
     "name": "stdout",
     "output_type": "stream",
     "text": [
      "50\n"
     ]
    }
   ],
   "source": [
    "print(sa)"
   ]
  },
  {
   "cell_type": "code",
   "execution_count": 38,
   "id": "26d5add4",
   "metadata": {},
   "outputs": [],
   "source": [
    "def sqrt(num):\n",
    "    for n in range(2,num):\n",
    "        if n%2==0:\n",
    "            print('squared of ',n,'is',n**2)\n",
    "        else:\n",
    "            print(n,'<< it is not even number',)"
   ]
  },
  {
   "cell_type": "code",
   "execution_count": 39,
   "id": "5256a17e",
   "metadata": {},
   "outputs": [
    {
     "name": "stdout",
     "output_type": "stream",
     "text": [
      "squared of  2 is 4\n",
      "3 << it is not even number\n",
      "squared of  4 is 16\n",
      "5 << it is not even number\n",
      "squared of  6 is 36\n",
      "7 << it is not even number\n"
     ]
    }
   ],
   "source": [
    "sqrt(8)"
   ]
  },
  {
   "cell_type": "code",
   "execution_count": 40,
   "id": "f50f197c",
   "metadata": {},
   "outputs": [],
   "source": [
    "def sqr(num):\n",
    "    for n in range(2,num):\n",
    "        print('squared of ',n,'is=>>',n**2)\n",
    "        "
   ]
  },
  {
   "cell_type": "code",
   "execution_count": 41,
   "id": "86be78c1",
   "metadata": {},
   "outputs": [
    {
     "name": "stdout",
     "output_type": "stream",
     "text": [
      "squared of  2 is=>> 4\n",
      "squared of  3 is=>> 9\n",
      "squared of  4 is=>> 16\n",
      "squared of  5 is=>> 25\n",
      "squared of  6 is=>> 36\n",
      "squared of  7 is=>> 49\n",
      "squared of  8 is=>> 64\n",
      "squared of  9 is=>> 81\n"
     ]
    }
   ],
   "source": [
    "sqr(10)"
   ]
  },
  {
   "cell_type": "markdown",
   "id": "77ff720d",
   "metadata": {},
   "source": [
    "# lambda function"
   ]
  },
  {
   "cell_type": "code",
   "execution_count": 42,
   "id": "887067cc",
   "metadata": {},
   "outputs": [
    {
     "data": {
      "text/plain": [
       "<function __main__.<lambda>(argument)>"
      ]
     },
     "execution_count": 42,
     "metadata": {},
     "output_type": "execute_result"
    }
   ],
   "source": [
    "lambda argument : expression"
   ]
  },
  {
   "cell_type": "code",
   "execution_count": 43,
   "id": "ee5c2497",
   "metadata": {},
   "outputs": [
    {
     "name": "stdout",
     "output_type": "stream",
     "text": [
      "80\n"
     ]
    }
   ],
   "source": [
    "x= lambda y : y+30\n",
    "print(x(50))"
   ]
  },
  {
   "cell_type": "code",
   "execution_count": 44,
   "id": "e4642b25",
   "metadata": {},
   "outputs": [
    {
     "name": "stdout",
     "output_type": "stream",
     "text": [
      "6\n"
     ]
    }
   ],
   "source": [
    "x=lambda c,d:c*d\n",
    "print(x(2,3))"
   ]
  },
  {
   "cell_type": "code",
   "execution_count": 45,
   "id": "012710ce",
   "metadata": {},
   "outputs": [
    {
     "name": "stdout",
     "output_type": "stream",
     "text": [
      "squared of  2 is 4\n",
      "3 << it is not even number\n",
      "squared of  4 is 16\n"
     ]
    }
   ],
   "source": [
    "sqrt(5)"
   ]
  },
  {
   "cell_type": "code",
   "execution_count": 6,
   "id": "ea67d451",
   "metadata": {},
   "outputs": [
    {
     "name": "stdout",
     "output_type": "stream",
     "text": [
      "25\n"
     ]
    }
   ],
   "source": [
    "x=lambda a,b:(a**2+b**2+2*a*b)\n",
    "print(x(2,3))"
   ]
  },
  {
   "cell_type": "code",
   "execution_count": null,
   "id": "4627399e",
   "metadata": {},
   "outputs": [],
   "source": [
    "\n"
   ]
  }
 ],
 "metadata": {
  "kernelspec": {
   "display_name": "Python 3",
   "language": "python",
   "name": "python3"
  },
  "language_info": {
   "codemirror_mode": {
    "name": "ipython",
    "version": 3
   },
   "file_extension": ".py",
   "mimetype": "text/x-python",
   "name": "python",
   "nbconvert_exporter": "python",
   "pygments_lexer": "ipython3",
   "version": "3.8.8"
  }
 },
 "nbformat": 4,
 "nbformat_minor": 5
}
