{
 "cells": [
  {
   "cell_type": "code",
   "execution_count": 3,
   "id": "644ea53f",
   "metadata": {},
   "outputs": [],
   "source": [
    "import mysql.connector"
   ]
  },
  {
   "cell_type": "code",
   "execution_count": 4,
   "id": "31e68b72",
   "metadata": {},
   "outputs": [
    {
     "name": "stdout",
     "output_type": "stream",
     "text": [
      "<mysql.connector.connection.MySQLConnection object at 0x0000026B8DCF0970>\n"
     ]
    }
   ],
   "source": [
    "mydb=mysql.connector.connect(\n",
    "    host=\"localhost\",\n",
    "    user=\"root\",\n",
    "    password=\"7289\"\n",
    ")\n",
    "\n",
    "print(mydb)"
   ]
  },
  {
   "cell_type": "code",
   "execution_count": 5,
   "id": "f14b4abc",
   "metadata": {},
   "outputs": [
    {
     "name": "stdout",
     "output_type": "stream",
     "text": [
      "('information_schema',)\n",
      "('mysql',)\n",
      "('performance_schema',)\n",
      "('satyam',)\n",
      "('sys',)\n"
     ]
    }
   ],
   "source": [
    "mycur=mydb.cursor()\n",
    "mycur.execute(\"SHOW DATABASES\")\n",
    "for x in mycur:\n",
    "    print(x)"
   ]
  },
  {
   "cell_type": "code",
   "execution_count": 6,
   "id": "6e317020",
   "metadata": {},
   "outputs": [
    {
     "name": "stdout",
     "output_type": "stream",
     "text": [
      "('secure_file_priv', 'C:\\\\ProgramData\\\\MySQL\\\\MySQL Server 8.0\\\\Uploads\\\\')\n"
     ]
    }
   ],
   "source": [
    "mycur.execute(\"SHOW VARIABLES LIKE 'SECURE_FILE_PRIV'\")\n",
    "for x in mycur:\n",
    "    print(x)"
   ]
  },
  {
   "cell_type": "markdown",
   "id": "80a41161",
   "metadata": {},
   "source": [
    "# DATA SELECTION"
   ]
  },
  {
   "cell_type": "code",
   "execution_count": null,
   "id": "02ef53db",
   "metadata": {},
   "outputs": [],
   "source": []
  },
  {
   "cell_type": "code",
   "execution_count": 11,
   "id": "08cc1ae4",
   "metadata": {},
   "outputs": [
    {
     "name": "stdout",
     "output_type": "stream",
     "text": [
      "('school',)\n",
      "('user',)\n"
     ]
    }
   ],
   "source": [
    "mydb=mysql.connector.connect(\n",
    "    host=\"localhost\",\n",
    "    user=\"root\",\n",
    "    password=\"7289\",\n",
    "    database=\"satyam\")\n",
    "mycur = mydb.cursor()\n",
    "\n",
    "mycur.execute(\"SHOW TABLES\")\n",
    "for x in mycur:\n",
    "    print(x)"
   ]
  },
  {
   "cell_type": "code",
   "execution_count": 12,
   "id": "9f5dd881",
   "metadata": {},
   "outputs": [],
   "source": [
    "mycur=mydb.cursor()\n",
    "mycur.execute(\"SELECT * FROM school\")\n",
    "myresult=mycur.fetchall()\n",
    "for x in myresult:\n",
    "    print(x)"
   ]
  },
  {
   "cell_type": "code",
   "execution_count": 15,
   "id": "193db252",
   "metadata": {},
   "outputs": [
    {
     "name": "stdout",
     "output_type": "stream",
     "text": [
      "('male', 10854, 69)\n"
     ]
    }
   ],
   "source": [
    "sql=\"SELECT DISTINCT * FROM school WHERE student_id = 10854\"\n",
    "mycur.execute(sql)\n",
    "myresult=mycur.fetchall()\n",
    "for x in myresult:\n",
    "    print(x)"
   ]
  },
  {
   "cell_type": "code",
   "execution_count": 16,
   "id": "20095015",
   "metadata": {},
   "outputs": [
    {
     "name": "stdout",
     "output_type": "stream",
     "text": [
      "(10869, 52)\n",
      "(10869, 52)\n",
      "(10856, 55)\n",
      "(10856, 55)\n",
      "(10854, 69)\n",
      "(10854, 69)\n"
     ]
    }
   ],
   "source": [
    "sql=\"SELECT student_id, marks FROM school ORDER BY marks\"\n",
    "mycur.execute(sql)\n",
    "myresult=mycur.fetchall()\n",
    "for x in myresult:\n",
    "    print(x)"
   ]
  },
  {
   "cell_type": "markdown",
   "id": "abc787b7",
   "metadata": {},
   "source": [
    "# UPDATE table"
   ]
  },
  {
   "cell_type": "code",
   "execution_count": 21,
   "id": "321aea67",
   "metadata": {},
   "outputs": [
    {
     "name": "stdout",
     "output_type": "stream",
     "text": [
      "2 record(s) affected\n"
     ]
    }
   ],
   "source": [
    "sql=\"UPDATE school SET marks = 100 WHERE student_id =10856\"\n",
    "mycur.execute(sql)\n",
    "mydb.commit()\n",
    "print(mycur.rowcount,\"record(s) affected\")"
   ]
  },
  {
   "cell_type": "code",
   "execution_count": 22,
   "id": "991afc1b",
   "metadata": {},
   "outputs": [
    {
     "name": "stdout",
     "output_type": "stream",
     "text": [
      "(10854, 69)\n",
      "(10854, 69)\n",
      "(10856, 100)\n",
      "(10869, 100)\n",
      "(10856, 100)\n",
      "(10869, 100)\n"
     ]
    }
   ],
   "source": [
    "sql=\"SELECT student_id, marks FROM school ORDER BY marks\"\n",
    "mycur.execute(sql)\n",
    "myresult=mycur.fetchall()\n",
    "for x in myresult:\n",
    "    print(x)"
   ]
  },
  {
   "cell_type": "markdown",
   "id": "22a71548",
   "metadata": {},
   "source": [
    "# DELETE"
   ]
  },
  {
   "cell_type": "code",
   "execution_count": 23,
   "id": "efd50fea",
   "metadata": {},
   "outputs": [],
   "source": [
    "mycur=mydb.cursor()\n",
    "mycur.execute(\"DELETE FROM school WHERE student_id = 10869\")\n",
    "mydb.commit()"
   ]
  },
  {
   "cell_type": "code",
   "execution_count": 32,
   "id": "fc064e53",
   "metadata": {},
   "outputs": [
    {
     "name": "stdout",
     "output_type": "stream",
     "text": [
      "(10854, 69)\n",
      "(10854, 69)\n",
      "(10856, 100)\n",
      "(10856, 100)\n"
     ]
    }
   ],
   "source": [
    "sql=\"SELECT student_id, marks FROM school ORDER BY marks\"\n",
    "mycur.execute(sql)\n",
    "myresult=mycur.fetchall()\n",
    "for x in myresult:\n",
    "    print(x)"
   ]
  },
  {
   "cell_type": "markdown",
   "id": "b03c9336",
   "metadata": {},
   "source": [
    "# DROP "
   ]
  },
  {
   "cell_type": "code",
   "execution_count": 35,
   "id": "ea331a3a",
   "metadata": {},
   "outputs": [],
   "source": [
    "mycur=mydb.cursor()\n",
    "sql= \"DROP TABLE school1\"\n",
    "mycur.execute(sql)\n"
   ]
  },
  {
   "cell_type": "code",
   "execution_count": 9,
   "id": "8c06bc9a",
   "metadata": {},
   "outputs": [
    {
     "name": "stdout",
     "output_type": "stream",
     "text": [
      "('information_schema',)\n",
      "('mysql',)\n",
      "('performance_schema',)\n",
      "('satyam',)\n",
      "('sys',)\n"
     ]
    }
   ],
   "source": [
    "mycur.execute(\"SHOW DATABASES\")\n",
    "for x in mycur:\n",
    "    print(x)"
   ]
  },
  {
   "cell_type": "markdown",
   "id": "2d2e1387",
   "metadata": {},
   "source": [
    "# JOINS"
   ]
  },
  {
   "cell_type": "code",
   "execution_count": 13,
   "id": "34e8ff3b",
   "metadata": {},
   "outputs": [
    {
     "name": "stdout",
     "output_type": "stream",
     "text": [
      "('school',)\n",
      "('user',)\n"
     ]
    }
   ],
   "source": [
    "ydb=mysql.connector.connect(\n",
    "    host=\"localhost\",\n",
    "    user=\"root\",\n",
    "    password=\"7289\",\n",
    "    database=\"satyam\")\n",
    "mycur = mydb.cursor()\n",
    "\n",
    "mycur.execute(\"SHOW TABLES\")\n",
    "for x in mycur:\n",
    "    print(x)"
   ]
  },
  {
   "cell_type": "code",
   "execution_count": null,
   "id": "6a0f5050",
   "metadata": {},
   "outputs": [],
   "source": []
  }
 ],
 "metadata": {
  "kernelspec": {
   "display_name": "Python 3",
   "language": "python",
   "name": "python3"
  },
  "language_info": {
   "codemirror_mode": {
    "name": "ipython",
    "version": 3
   },
   "file_extension": ".py",
   "mimetype": "text/x-python",
   "name": "python",
   "nbconvert_exporter": "python",
   "pygments_lexer": "ipython3",
   "version": "3.8.8"
  }
 },
 "nbformat": 4,
 "nbformat_minor": 5
}
