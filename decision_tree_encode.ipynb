{
 "cells": [
  {
   "cell_type": "code",
   "execution_count": 1,
   "id": "5c76d086",
   "metadata": {},
   "outputs": [],
   "source": [
    "import pandas as pd\n",
    "import numpy as np\n",
    "\n",
    "import warnings\n",
    "warnings.filterwarnings('ignore')"
   ]
  },
  {
   "cell_type": "code",
   "execution_count": 2,
   "id": "975476d1",
   "metadata": {},
   "outputs": [
    {
     "data": {
      "text/html": [
       "<div>\n",
       "<style scoped>\n",
       "    .dataframe tbody tr th:only-of-type {\n",
       "        vertical-align: middle;\n",
       "    }\n",
       "\n",
       "    .dataframe tbody tr th {\n",
       "        vertical-align: top;\n",
       "    }\n",
       "\n",
       "    .dataframe thead th {\n",
       "        text-align: right;\n",
       "    }\n",
       "</style>\n",
       "<table border=\"1\" class=\"dataframe\">\n",
       "  <thead>\n",
       "    <tr style=\"text-align: right;\">\n",
       "      <th></th>\n",
       "      <th>x</th>\n",
       "      <th>y</th>\n",
       "      <th>z</th>\n",
       "      <th>Label</th>\n",
       "    </tr>\n",
       "  </thead>\n",
       "  <tbody>\n",
       "    <tr>\n",
       "      <th>0</th>\n",
       "      <td>1</td>\n",
       "      <td>1</td>\n",
       "      <td>1</td>\n",
       "      <td>A</td>\n",
       "    </tr>\n",
       "    <tr>\n",
       "      <th>1</th>\n",
       "      <td>1</td>\n",
       "      <td>1</td>\n",
       "      <td>0</td>\n",
       "      <td>A</td>\n",
       "    </tr>\n",
       "    <tr>\n",
       "      <th>2</th>\n",
       "      <td>0</td>\n",
       "      <td>0</td>\n",
       "      <td>1</td>\n",
       "      <td>B</td>\n",
       "    </tr>\n",
       "    <tr>\n",
       "      <th>3</th>\n",
       "      <td>1</td>\n",
       "      <td>0</td>\n",
       "      <td>0</td>\n",
       "      <td>B</td>\n",
       "    </tr>\n",
       "  </tbody>\n",
       "</table>\n",
       "</div>"
      ],
      "text/plain": [
       "   x  y  z Label\n",
       "0  1  1  1     A\n",
       "1  1  1  0     A\n",
       "2  0  0  1     B\n",
       "3  1  0  0     B"
      ]
     },
     "execution_count": 2,
     "metadata": {},
     "output_type": "execute_result"
    }
   ],
   "source": [
    "df=pd.DataFrame({'x':[1,1,0,1],'y':[1,1,0,0],'z':[1,0,1,0],'Label':['A','A','B','B']})\n",
    "df"
   ]
  },
  {
   "cell_type": "markdown",
   "id": "f13192af",
   "metadata": {},
   "source": [
    "total ones in 'x' =3\n",
    "count of label A when x= 1 is 2\n",
    "count of label B when x=1 is 1\n",
    "\n",
    "total zeros in 'x' = 1\n",
    "count of label A when x= 0 is 0\n",
    "count of label B when x=0 is 1\n",
    "\n",
    "entropy= -p*log2(p)"
   ]
  },
  {
   "cell_type": "code",
   "execution_count": 3,
   "id": "02ea791c",
   "metadata": {},
   "outputs": [
    {
     "name": "stdout",
     "output_type": "stream",
     "text": [
      "entropy_x_1 0.9182958340544896\n",
      "entropy_x_0 nan\n"
     ]
    }
   ],
   "source": [
    "entropy_x_1=(-2/3*np.log2(2/3))+(-1/3*np.log2(1/3))\n",
    "print('entropy_x_1',entropy_x_1)\n",
    "\n",
    "entropy_x_0=(-0/1*np.log2(0/1))+(-1/1*np.log2(1/1))\n",
    "print('entropy_x_0',entropy_x_0)"
   ]
  },
  {
   "cell_type": "code",
   "execution_count": 4,
   "id": "cc014057",
   "metadata": {},
   "outputs": [
    {
     "name": "stdout",
     "output_type": "stream",
     "text": [
      "entropy_y_1 nan\n",
      "entropy_y_0 nan\n"
     ]
    }
   ],
   "source": [
    "entropy_y_1=(-2/2*np.log2(2/2))+(-0/2*np.log2(0/2))\n",
    "print('entropy_y_1',entropy_y_1)\n",
    "\n",
    "entropy_y_0=(-0/2*np.log2(0/2))+(-2/2*np.log2(2/2))\n",
    "print('entropy_y_0',entropy_y_0)"
   ]
  },
  {
   "cell_type": "code",
   "execution_count": 5,
   "id": "3435975a",
   "metadata": {},
   "outputs": [
    {
     "name": "stdout",
     "output_type": "stream",
     "text": [
      "entropy_z_1 1.0\n",
      "entropy_z_0 1.0\n"
     ]
    }
   ],
   "source": [
    "entropy_z_1=(-1/2*np.log2(1/2))+(-1/2*np.log2(1/2))\n",
    "print('entropy_z_1',entropy_z_1)\n",
    "\n",
    "entropy_z_0=(-1/2*np.log2(1/2))+(-1/2*np.log2(1/2))\n",
    "print('entropy_z_0',entropy_z_0)"
   ]
  },
  {
   "cell_type": "markdown",
   "id": "95503c90",
   "metadata": {},
   "source": [
    "# information gain=1-sv/s*E\n",
    "\n",
    "sv=category count  \n",
    "s= total record  \n",
    "E= Entropy"
   ]
  },
  {
   "cell_type": "code",
   "execution_count": 6,
   "id": "8e9cf155",
   "metadata": {},
   "outputs": [
    {
     "data": {
      "text/html": [
       "<div>\n",
       "<style scoped>\n",
       "    .dataframe tbody tr th:only-of-type {\n",
       "        vertical-align: middle;\n",
       "    }\n",
       "\n",
       "    .dataframe tbody tr th {\n",
       "        vertical-align: top;\n",
       "    }\n",
       "\n",
       "    .dataframe thead th {\n",
       "        text-align: right;\n",
       "    }\n",
       "</style>\n",
       "<table border=\"1\" class=\"dataframe\">\n",
       "  <thead>\n",
       "    <tr style=\"text-align: right;\">\n",
       "      <th></th>\n",
       "      <th>x</th>\n",
       "      <th>y</th>\n",
       "      <th>z</th>\n",
       "      <th>Label</th>\n",
       "    </tr>\n",
       "  </thead>\n",
       "  <tbody>\n",
       "    <tr>\n",
       "      <th>0</th>\n",
       "      <td>1</td>\n",
       "      <td>1</td>\n",
       "      <td>1</td>\n",
       "      <td>A</td>\n",
       "    </tr>\n",
       "    <tr>\n",
       "      <th>1</th>\n",
       "      <td>1</td>\n",
       "      <td>1</td>\n",
       "      <td>0</td>\n",
       "      <td>A</td>\n",
       "    </tr>\n",
       "    <tr>\n",
       "      <th>2</th>\n",
       "      <td>0</td>\n",
       "      <td>0</td>\n",
       "      <td>1</td>\n",
       "      <td>B</td>\n",
       "    </tr>\n",
       "    <tr>\n",
       "      <th>3</th>\n",
       "      <td>1</td>\n",
       "      <td>0</td>\n",
       "      <td>0</td>\n",
       "      <td>B</td>\n",
       "    </tr>\n",
       "  </tbody>\n",
       "</table>\n",
       "</div>"
      ],
      "text/plain": [
       "   x  y  z Label\n",
       "0  1  1  1     A\n",
       "1  1  1  0     A\n",
       "2  0  0  1     B\n",
       "3  1  0  0     B"
      ]
     },
     "execution_count": 6,
     "metadata": {},
     "output_type": "execute_result"
    }
   ],
   "source": [
    "df"
   ]
  },
  {
   "cell_type": "code",
   "execution_count": 7,
   "id": "a9cc5777",
   "metadata": {},
   "outputs": [
    {
     "name": "stdout",
     "output_type": "stream",
     "text": [
      "IG_X=  0.3115\n",
      "IG_y=  1.0\n",
      "IG_z=  0.0\n"
     ]
    }
   ],
   "source": [
    "IG_x=1-(3/4*0.918 + 1/4*0)\n",
    "print ('IG_X= ',IG_x)\n",
    "\n",
    "IG_y=1-(2/4*0 + 2/4*0)\n",
    "print ('IG_y= ', IG_y)\n",
    "\n",
    "IG_z=1-(2/4*1 + 2/4*1)\n",
    "print ('IG_z= ', IG_z)\n"
   ]
  },
  {
   "cell_type": "markdown",
   "id": "5dae5a0a",
   "metadata": {},
   "source": [
    "# Gini Index\n",
    "\n",
    "gini impurity=1-p2\n"
   ]
  },
  {
   "cell_type": "code",
   "execution_count": 8,
   "id": "e97b8516",
   "metadata": {},
   "outputs": [
    {
     "data": {
      "text/html": [
       "<div>\n",
       "<style scoped>\n",
       "    .dataframe tbody tr th:only-of-type {\n",
       "        vertical-align: middle;\n",
       "    }\n",
       "\n",
       "    .dataframe tbody tr th {\n",
       "        vertical-align: top;\n",
       "    }\n",
       "\n",
       "    .dataframe thead th {\n",
       "        text-align: right;\n",
       "    }\n",
       "</style>\n",
       "<table border=\"1\" class=\"dataframe\">\n",
       "  <thead>\n",
       "    <tr style=\"text-align: right;\">\n",
       "      <th></th>\n",
       "      <th>x</th>\n",
       "      <th>y</th>\n",
       "      <th>z</th>\n",
       "      <th>Label</th>\n",
       "    </tr>\n",
       "  </thead>\n",
       "  <tbody>\n",
       "    <tr>\n",
       "      <th>0</th>\n",
       "      <td>17</td>\n",
       "      <td>20</td>\n",
       "      <td>10</td>\n",
       "      <td>P</td>\n",
       "    </tr>\n",
       "    <tr>\n",
       "      <th>1</th>\n",
       "      <td>10</td>\n",
       "      <td>15</td>\n",
       "      <td>5</td>\n",
       "      <td>N</td>\n",
       "    </tr>\n",
       "    <tr>\n",
       "      <th>2</th>\n",
       "      <td>2</td>\n",
       "      <td>50</td>\n",
       "      <td>20</td>\n",
       "      <td>P</td>\n",
       "    </tr>\n",
       "    <tr>\n",
       "      <th>3</th>\n",
       "      <td>11</td>\n",
       "      <td>10</td>\n",
       "      <td>25</td>\n",
       "      <td>N</td>\n",
       "    </tr>\n",
       "  </tbody>\n",
       "</table>\n",
       "</div>"
      ],
      "text/plain": [
       "    x   y   z Label\n",
       "0  17  20  10     P\n",
       "1  10  15   5     N\n",
       "2   2  50  20     P\n",
       "3  11  10  25     N"
      ]
     },
     "execution_count": 8,
     "metadata": {},
     "output_type": "execute_result"
    }
   ],
   "source": [
    "df=pd.DataFrame({'x':[17,10,2,11],'y':[20,15,50,10],'z':[10,5,20,25],'Label':['P','N','P','N']})\n",
    "df"
   ]
  },
  {
   "cell_type": "code",
   "execution_count": 9,
   "id": "f8f45632",
   "metadata": {},
   "outputs": [
    {
     "name": "stdout",
     "output_type": "stream",
     "text": [
      "Gx_gt_10= 0.4444444444444444\n",
      "Gx_lt_10= 0.0\n",
      "gini_impurity_x=  0.3333333333333333\n"
     ]
    }
   ],
   "source": [
    "Gx_gt_10=1-(np.square(2/3)+np.square(1/3))\n",
    "print('Gx_gt_10=',Gx_gt_10)\n",
    "\n",
    "Gx_lt_10=1-(np.square(0/1)+np.square(1/1))\n",
    "print('Gx_lt_10=',Gx_lt_10)\n",
    "\n",
    "gini_impurity_x=(3/4)*Gx_gt_10+(1/4)*Gx_lt_10\n",
    "print('gini_impurity_x= ',gini_impurity_x)"
   ]
  },
  {
   "cell_type": "code",
   "execution_count": 10,
   "id": "9707e316",
   "metadata": {},
   "outputs": [
    {
     "name": "stdout",
     "output_type": "stream",
     "text": [
      "Gy_gt_10 =  0.5\n",
      "gini_impurity_y=  0.5\n"
     ]
    }
   ],
   "source": [
    "Gy_gt_10=1-(np.square(2/4)+np.square(2/4))\n",
    "print('Gy_gt_10 = ',Gy_gt_10)\n",
    "\n",
    "gini_impurity_y=(4/4)*Gy_gt_10\n",
    "print('gini_impurity_y= ',gini_impurity_y)"
   ]
  },
  {
   "cell_type": "code",
   "execution_count": 11,
   "id": "2a2e3da4",
   "metadata": {},
   "outputs": [
    {
     "name": "stdout",
     "output_type": "stream",
     "text": [
      "Gz_gt_10= 0.4444444444444444\n",
      "Gz_lt_10= 0.0\n",
      "gini_impurity_z=  0.3333333333333333\n"
     ]
    }
   ],
   "source": [
    "Gz_gt_10=1-(np.square(1/3)+np.square(2/3))\n",
    "print('Gz_gt_10=',Gz_gt_10)\n",
    "\n",
    "Gz_lt_10=1-(np.square(1/1)+np.square(0/1))\n",
    "print('Gz_lt_10=',Gz_lt_10)\n",
    "\n",
    "gini_impurity_z=(3/4)*Gz_gt_10+(1/4)*Gz_lt_10\n",
    "print('gini_impurity_z= ',gini_impurity_z)"
   ]
  },
  {
   "cell_type": "code",
   "execution_count": null,
   "id": "6e42c391",
   "metadata": {},
   "outputs": [],
   "source": []
  }
 ],
 "metadata": {
  "kernelspec": {
   "display_name": "Python 3",
   "language": "python",
   "name": "python3"
  },
  "language_info": {
   "codemirror_mode": {
    "name": "ipython",
    "version": 3
   },
   "file_extension": ".py",
   "mimetype": "text/x-python",
   "name": "python",
   "nbconvert_exporter": "python",
   "pygments_lexer": "ipython3",
   "version": "3.8.8"
  }
 },
 "nbformat": 4,
 "nbformat_minor": 5
}
