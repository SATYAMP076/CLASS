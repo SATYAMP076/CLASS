{
 "cells": [
  {
   "cell_type": "code",
   "execution_count": 1,
   "id": "b668b32d",
   "metadata": {},
   "outputs": [
    {
     "data": {
      "text/plain": [
       "False"
      ]
     },
     "execution_count": 1,
     "metadata": {},
     "output_type": "execute_result"
    }
   ],
   "source": [
    "True and False "
   ]
  },
  {
   "cell_type": "code",
   "execution_count": 3,
   "id": "e9e13023",
   "metadata": {},
   "outputs": [
    {
     "data": {
      "text/plain": [
       "False"
      ]
     },
     "execution_count": 3,
     "metadata": {},
     "output_type": "execute_result"
    }
   ],
   "source": [
    "True is False"
   ]
  },
  {
   "cell_type": "code",
   "execution_count": 4,
   "id": "0e188102",
   "metadata": {},
   "outputs": [
    {
     "data": {
      "text/plain": [
       "True"
      ]
     },
     "execution_count": 4,
     "metadata": {},
     "output_type": "execute_result"
    }
   ],
   "source": [
    "True or False"
   ]
  },
  {
   "cell_type": "code",
   "execution_count": 5,
   "id": "f714bceb",
   "metadata": {},
   "outputs": [
    {
     "data": {
      "text/plain": [
       "True"
      ]
     },
     "execution_count": 5,
     "metadata": {},
     "output_type": "execute_result"
    }
   ],
   "source": [
    "False or True"
   ]
  },
  {
   "cell_type": "code",
   "execution_count": 6,
   "id": "b1c02aa9",
   "metadata": {},
   "outputs": [
    {
     "data": {
      "text/plain": [
       "True"
      ]
     },
     "execution_count": 6,
     "metadata": {},
     "output_type": "execute_result"
    }
   ],
   "source": [
    "True and False or True"
   ]
  },
  {
   "cell_type": "markdown",
   "id": "58abbcdb",
   "metadata": {},
   "source": [
    "# LIST"
   ]
  },
  {
   "cell_type": "code",
   "execution_count": 13,
   "id": "4304bac7",
   "metadata": {},
   "outputs": [],
   "source": [
    "satyam=['satyam','nikita','satyam1','shivanya' ]"
   ]
  },
  {
   "cell_type": "code",
   "execution_count": 14,
   "id": "d05fb50b",
   "metadata": {},
   "outputs": [
    {
     "data": {
      "text/plain": [
       "['satyam', 'nikita', 'satyam1', 'shivanya']"
      ]
     },
     "execution_count": 14,
     "metadata": {},
     "output_type": "execute_result"
    }
   ],
   "source": [
    "satyam"
   ]
  },
  {
   "cell_type": "code",
   "execution_count": 15,
   "id": "9b378eef",
   "metadata": {},
   "outputs": [],
   "source": [
    "satyam.append('i love you')"
   ]
  },
  {
   "cell_type": "code",
   "execution_count": 16,
   "id": "800a24e6",
   "metadata": {},
   "outputs": [
    {
     "data": {
      "text/plain": [
       "['satyam', 'nikita', 'satyam1', 'shivanya', 'i love you']"
      ]
     },
     "execution_count": 16,
     "metadata": {},
     "output_type": "execute_result"
    }
   ],
   "source": [
    "satyam"
   ]
  },
  {
   "cell_type": "code",
   "execution_count": 17,
   "id": "39dbdc31",
   "metadata": {},
   "outputs": [],
   "source": [
    "satyam.insert(0,'i love you')"
   ]
  },
  {
   "cell_type": "code",
   "execution_count": 18,
   "id": "baa37a6f",
   "metadata": {},
   "outputs": [
    {
     "data": {
      "text/plain": [
       "['i love you', 'satyam', 'nikita', 'satyam1', 'shivanya', 'i love you']"
      ]
     },
     "execution_count": 18,
     "metadata": {},
     "output_type": "execute_result"
    }
   ],
   "source": [
    "satyam"
   ]
  },
  {
   "cell_type": "code",
   "execution_count": 22,
   "id": "79d4a505",
   "metadata": {},
   "outputs": [],
   "source": [
    "a='sat'"
   ]
  },
  {
   "cell_type": "code",
   "execution_count": 27,
   "id": "40c0e326",
   "metadata": {},
   "outputs": [
    {
     "data": {
      "text/plain": [
       "str"
      ]
     },
     "execution_count": 27,
     "metadata": {},
     "output_type": "execute_result"
    }
   ],
   "source": [
    "type (true)"
   ]
  },
  {
   "cell_type": "code",
   "execution_count": 30,
   "id": "78d6a297",
   "metadata": {},
   "outputs": [],
   "source": [
    "b=50"
   ]
  },
  {
   "cell_type": "code",
   "execution_count": 31,
   "id": "3472dc1c",
   "metadata": {},
   "outputs": [
    {
     "data": {
      "text/plain": [
       "int"
      ]
     },
     "execution_count": 31,
     "metadata": {},
     "output_type": "execute_result"
    }
   ],
   "source": [
    "type (b)"
   ]
  },
  {
   "cell_type": "code",
   "execution_count": 32,
   "id": "89f41bf7",
   "metadata": {},
   "outputs": [],
   "source": [
    "c=9.0"
   ]
  },
  {
   "cell_type": "code",
   "execution_count": 33,
   "id": "523b9f59",
   "metadata": {},
   "outputs": [
    {
     "data": {
      "text/plain": [
       "float"
      ]
     },
     "execution_count": 33,
     "metadata": {},
     "output_type": "execute_result"
    }
   ],
   "source": [
    "type(c)"
   ]
  },
  {
   "cell_type": "code",
   "execution_count": 35,
   "id": "2935a887",
   "metadata": {},
   "outputs": [],
   "source": [
    "d= 20+2j"
   ]
  },
  {
   "cell_type": "code",
   "execution_count": 36,
   "id": "a3de5c71",
   "metadata": {},
   "outputs": [
    {
     "data": {
      "text/plain": [
       "complex"
      ]
     },
     "execution_count": 36,
     "metadata": {},
     "output_type": "execute_result"
    }
   ],
   "source": [
    "type(d)"
   ]
  },
  {
   "cell_type": "code",
   "execution_count": null,
   "id": "14f65f2e",
   "metadata": {},
   "outputs": [],
   "source": []
  }
 ],
 "metadata": {
  "kernelspec": {
   "display_name": "Python 3",
   "language": "python",
   "name": "python3"
  },
  "language_info": {
   "codemirror_mode": {
    "name": "ipython",
    "version": 3
   },
   "file_extension": ".py",
   "mimetype": "text/x-python",
   "name": "python",
   "nbconvert_exporter": "python",
   "pygments_lexer": "ipython3",
   "version": "3.8.8"
  }
 },
 "nbformat": 4,
 "nbformat_minor": 5
}
