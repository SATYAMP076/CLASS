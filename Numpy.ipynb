{
 "cells": [
  {
   "cell_type": "code",
   "execution_count": 1,
   "id": "425fe582",
   "metadata": {},
   "outputs": [],
   "source": [
    "import numpy as np"
   ]
  },
  {
   "cell_type": "code",
   "execution_count": 2,
   "id": "2ee485f0",
   "metadata": {},
   "outputs": [
    {
     "data": {
      "text/plain": [
       "array([ 5,  9, 13])"
      ]
     },
     "execution_count": 2,
     "metadata": {},
     "output_type": "execute_result"
    }
   ],
   "source": [
    "np.array([5,9,13])"
   ]
  },
  {
   "cell_type": "code",
   "execution_count": 3,
   "id": "361169bd",
   "metadata": {},
   "outputs": [
    {
     "data": {
      "text/plain": [
       "list"
      ]
     },
     "execution_count": 3,
     "metadata": {},
     "output_type": "execute_result"
    }
   ],
   "source": [
    "type([ 5,  9, 13])"
   ]
  },
  {
   "cell_type": "code",
   "execution_count": 4,
   "id": "d187f2af",
   "metadata": {},
   "outputs": [
    {
     "name": "stdout",
     "output_type": "stream",
     "text": [
      "int32\n",
      "[[1 2]\n",
      " [3 4]\n",
      " [4 5]]\n"
     ]
    }
   ],
   "source": [
    "a=np.array([[1,2],[3,4],[4,5]])\n",
    "print(a.dtype)\n",
    "print(a)"
   ]
  },
  {
   "cell_type": "code",
   "execution_count": 5,
   "id": "fd249d09",
   "metadata": {},
   "outputs": [
    {
     "data": {
      "text/plain": [
       "array([[1, 2],\n",
       "       [3, 4],\n",
       "       [4, 5]])"
      ]
     },
     "execution_count": 5,
     "metadata": {},
     "output_type": "execute_result"
    }
   ],
   "source": [
    "a"
   ]
  },
  {
   "cell_type": "code",
   "execution_count": 6,
   "id": "e590325e",
   "metadata": {},
   "outputs": [
    {
     "data": {
      "text/plain": [
       "array([1., 2., 3.])"
      ]
     },
     "execution_count": 6,
     "metadata": {},
     "output_type": "execute_result"
    }
   ],
   "source": [
    "np.array([1,2,3],dtype=float)"
   ]
  },
  {
   "cell_type": "code",
   "execution_count": 7,
   "id": "71440dd2",
   "metadata": {},
   "outputs": [
    {
     "data": {
      "text/plain": [
       "array([[1, 2, 3],\n",
       "       [3, 4, 5],\n",
       "       [5, 6, 7]])"
      ]
     },
     "execution_count": 7,
     "metadata": {},
     "output_type": "execute_result"
    }
   ],
   "source": [
    "np.array(np.mat('1,2,3 ; 3,4,5 ; 5,6,7'))"
   ]
  },
  {
   "cell_type": "code",
   "execution_count": 8,
   "id": "eb3d50c4",
   "metadata": {},
   "outputs": [
    {
     "data": {
      "text/plain": [
       "array([1, 2])"
      ]
     },
     "execution_count": 8,
     "metadata": {},
     "output_type": "execute_result"
    }
   ],
   "source": [
    "a=[1,2]\n",
    "np.array(a)"
   ]
  },
  {
   "cell_type": "code",
   "execution_count": 9,
   "id": "a967963c",
   "metadata": {},
   "outputs": [],
   "source": [
    "b=np.asarray(a)"
   ]
  },
  {
   "cell_type": "code",
   "execution_count": 10,
   "id": "26e892ad",
   "metadata": {},
   "outputs": [
    {
     "data": {
      "text/plain": [
       "array([1, 2])"
      ]
     },
     "execution_count": 10,
     "metadata": {},
     "output_type": "execute_result"
    }
   ],
   "source": [
    "b"
   ]
  },
  {
   "cell_type": "markdown",
   "id": "4961ffbb",
   "metadata": {},
   "source": [
    "# data type"
   ]
  },
  {
   "cell_type": "code",
   "execution_count": 11,
   "id": "b1e71e39",
   "metadata": {},
   "outputs": [
    {
     "name": "stdout",
     "output_type": "stream",
     "text": [
      "Type/class of this object: <class 'numpy.ndarray'>\n",
      "Here is the vector\n",
      "---------------\n",
      " [1 2 3]\n"
     ]
    }
   ],
   "source": [
    "my_list=[1,2,3]\n",
    "arr=np.array(my_list)\n",
    "print(\"Type/class of this object:\",type(arr))\n",
    "print(\"Here is the vector\\n---------------\\n\",arr)"
   ]
  },
  {
   "cell_type": "code",
   "execution_count": 12,
   "id": "37a003ff",
   "metadata": {},
   "outputs": [
    {
     "name": "stdout",
     "output_type": "stream",
     "text": [
      "Type/class of this object: <class 'numpy.ndarray'>\n",
      "here is the matrix\n",
      "-------------\n",
      " [[1 2 3]\n",
      " [4 5 6]\n",
      " [7 8 9]] \n",
      "-----------\n",
      "Dimension of this matrix:2\n",
      "size of this matrix:9\n",
      "shape of this matrix: (3, 3)\n",
      "Data type of this matrix: int32\n"
     ]
    }
   ],
   "source": [
    "my_mat=([1,2,3],[4,5,6],[7,8,9])\n",
    "mat=np.array(my_mat)\n",
    "\n",
    "print(\"Type/class of this object:\",type(mat))\n",
    "print(\"here is the matrix\\n-------------\\n\",mat,\"\\n-----------\")\n",
    "print(\"Dimension of this matrix:\",mat.ndim,sep='')\n",
    "print(\"size of this matrix:\",mat.size, sep='')\n",
    "print(\"shape of this matrix:\",mat.shape)\n",
    "print(\"Data type of this matrix:\",mat.dtype)"
   ]
  },
  {
   "cell_type": "markdown",
   "id": "45a1e23b",
   "metadata": {},
   "source": [
    "# arange and linspace"
   ]
  },
  {
   "cell_type": "code",
   "execution_count": 13,
   "id": "52438322",
   "metadata": {},
   "outputs": [
    {
     "ename": "TypeError",
     "evalue": "'float' object cannot be interpreted as an integer",
     "output_type": "error",
     "traceback": [
      "\u001b[1;31m---------------------------------------------------------------------------\u001b[0m",
      "\u001b[1;31mTypeError\u001b[0m                                 Traceback (most recent call last)",
      "\u001b[1;32m<ipython-input-13-c2a910e00ae5>\u001b[0m in \u001b[0;36m<module>\u001b[1;34m\u001b[0m\n\u001b[1;32m----> 1\u001b[1;33m \u001b[0mlist\u001b[0m\u001b[1;33m(\u001b[0m\u001b[0mrange\u001b[0m\u001b[1;33m(\u001b[0m\u001b[1;36m2\u001b[0m\u001b[1;33m,\u001b[0m\u001b[1;36m10.5\u001b[0m\u001b[1;33m,\u001b[0m\u001b[1;36m4\u001b[0m\u001b[1;33m)\u001b[0m\u001b[1;33m)\u001b[0m\u001b[1;33m\u001b[0m\u001b[1;33m\u001b[0m\u001b[0m\n\u001b[0m",
      "\u001b[1;31mTypeError\u001b[0m: 'float' object cannot be interpreted as an integer"
     ]
    }
   ],
   "source": [
    "list(range(2,10.5,4))"
   ]
  },
  {
   "cell_type": "code",
   "execution_count": 14,
   "id": "34227546",
   "metadata": {},
   "outputs": [
    {
     "data": {
      "text/plain": [
       "array([ 2. ,  2.4,  2.8,  3.2,  3.6,  4. ,  4.4,  4.8,  5.2,  5.6,  6. ,\n",
       "        6.4,  6.8,  7.2,  7.6,  8. ,  8.4,  8.8,  9.2,  9.6, 10. , 10.4])"
      ]
     },
     "execution_count": 14,
     "metadata": {},
     "output_type": "execute_result"
    }
   ],
   "source": [
    "a=np.arange(2,10.5,0.4) # start point,endpoint,step size\n",
    "a"
   ]
  },
  {
   "cell_type": "code",
   "execution_count": 15,
   "id": "ef9ca626",
   "metadata": {},
   "outputs": [
    {
     "name": "stdout",
     "output_type": "stream",
     "text": [
      "every 5th number from 50 in reverse order\n",
      " [50 45 40 35 30 25 20 15 10  5]\n"
     ]
    }
   ],
   "source": [
    "print(\"every 5th number from 50 in reverse order\\n\",np.arange(50,0,-5))"
   ]
  },
  {
   "cell_type": "code",
   "execution_count": 16,
   "id": "39216172",
   "metadata": {},
   "outputs": [
    {
     "data": {
      "text/plain": [
       "array([10.4, 10. ,  9.6,  9.2,  8.8,  8.4,  8. ,  7.6,  7.2,  6.8,  6.4,\n",
       "        6. ,  5.6,  5.2,  4.8,  4.4,  4. ,  3.6,  3.2,  2.8,  2.4,  2. ])"
      ]
     },
     "execution_count": 16,
     "metadata": {},
     "output_type": "execute_result"
    }
   ],
   "source": [
    "a[::-1]"
   ]
  },
  {
   "cell_type": "code",
   "execution_count": 17,
   "id": "1c92a656",
   "metadata": {},
   "outputs": [
    {
     "name": "stdout",
     "output_type": "stream",
     "text": [
      "linearly spaced number between 1and 5\n",
      "------------------\n",
      "[10.  17.5 25.  32.5 40. ]\n"
     ]
    }
   ],
   "source": [
    "print (\"linearly spaced number between 1and 5\\n------------------\")\n",
    "print(np.linspace(10,40,5))   #start,stop,no of deta in between(start&stop)"
   ]
  },
  {
   "cell_type": "markdown",
   "id": "151e05dc",
   "metadata": {},
   "source": [
    "# Matrix creation"
   ]
  },
  {
   "cell_type": "code",
   "execution_count": 18,
   "id": "d70ea485",
   "metadata": {},
   "outputs": [
    {
     "name": "stdout",
     "output_type": "stream",
     "text": [
      "vector of zeroes\n",
      "------------------\n",
      "[0. 0. 0. 0. 0.]\n"
     ]
    }
   ],
   "source": [
    "print(\"vector of zeroes\\n------------------\")\n",
    "print(np.zeros(5))"
   ]
  },
  {
   "cell_type": "code",
   "execution_count": 19,
   "id": "197c99ed",
   "metadata": {},
   "outputs": [
    {
     "name": "stdout",
     "output_type": "stream",
     "text": [
      "vector of zeroes\n",
      "------------------\n",
      "[[0. 0. 0. 0. 0. 0.]\n",
      " [0. 0. 0. 0. 0. 0.]\n",
      " [0. 0. 0. 0. 0. 0.]\n",
      " [0. 0. 0. 0. 0. 0.]\n",
      " [0. 0. 0. 0. 0. 0.]]\n"
     ]
    }
   ],
   "source": [
    "print(\"vector of zeroes\\n------------------\")\n",
    "print(np.zeros((5,6)))"
   ]
  },
  {
   "cell_type": "code",
   "execution_count": 20,
   "id": "664f2a1d",
   "metadata": {},
   "outputs": [
    {
     "name": "stdout",
     "output_type": "stream",
     "text": [
      "vector of ones\n",
      "------------------\n",
      "[1. 1. 1. 1. 1. 1. 1. 1. 1. 1.]\n"
     ]
    }
   ],
   "source": [
    "print(\"vector of ones\\n------------------\")\n",
    "print(np.ones(10))"
   ]
  },
  {
   "cell_type": "code",
   "execution_count": 21,
   "id": "32267634",
   "metadata": {},
   "outputs": [
    {
     "name": "stdout",
     "output_type": "stream",
     "text": [
      "vector of ones\n",
      "------------------\n",
      "[[1. 1. 1. 1. 1. 1.]\n",
      " [1. 1. 1. 1. 1. 1.]\n",
      " [1. 1. 1. 1. 1. 1.]\n",
      " [1. 1. 1. 1. 1. 1.]\n",
      " [1. 1. 1. 1. 1. 1.]]\n"
     ]
    }
   ],
   "source": [
    "print(\"vector of ones\\n------------------\")\n",
    "print(np.ones((5,6)))"
   ]
  },
  {
   "cell_type": "code",
   "execution_count": 22,
   "id": "f357c944",
   "metadata": {},
   "outputs": [
    {
     "name": "stdout",
     "output_type": "stream",
     "text": [
      "matrix of 5's\n",
      "------------------------\n",
      "[[5. 5. 5. 5. 5. 5.]\n",
      " [5. 5. 5. 5. 5. 5.]\n",
      " [5. 5. 5. 5. 5. 5.]\n",
      " [5. 5. 5. 5. 5. 5.]\n",
      " [5. 5. 5. 5. 5. 5.]]\n"
     ]
    }
   ],
   "source": [
    "print(\"matrix of 5's\\n------------------------\")\n",
    "print(5*np.ones((5,6)))"
   ]
  },
  {
   "cell_type": "code",
   "execution_count": 23,
   "id": "0dcc38aa",
   "metadata": {},
   "outputs": [
    {
     "name": "stdout",
     "output_type": "stream",
     "text": [
      "identify matrix of dimension (4, 4)\n",
      "[[1. 0. 0. 0.]\n",
      " [0. 1. 0. 0.]\n",
      " [0. 0. 1. 0.]\n",
      " [0. 0. 0. 1.]]\n"
     ]
    }
   ],
   "source": [
    "mat1=np.eye(4)\n",
    "print(\"identify matrix of dimension\",mat1.shape)\n",
    "print(mat1)"
   ]
  },
  {
   "cell_type": "code",
   "execution_count": 24,
   "id": "8f01a903",
   "metadata": {},
   "outputs": [
    {
     "data": {
      "text/plain": [
       "array([2.        , 2.33333333, 2.66666667, 3.        ])"
      ]
     },
     "execution_count": 24,
     "metadata": {},
     "output_type": "execute_result"
    }
   ],
   "source": [
    "np.linspace(2.0,3.0,4 ,endpoint=True)"
   ]
  },
  {
   "cell_type": "code",
   "execution_count": 25,
   "id": "7d1a013c",
   "metadata": {},
   "outputs": [
    {
     "data": {
      "text/plain": [
       "array([2.  , 2.25, 2.5 , 2.75])"
      ]
     },
     "execution_count": 25,
     "metadata": {},
     "output_type": "execute_result"
    }
   ],
   "source": [
    "np.linspace(2.0,3.0,num=4 ,endpoint=False)"
   ]
  },
  {
   "cell_type": "code",
   "execution_count": 26,
   "id": "4ca8f0bf",
   "metadata": {},
   "outputs": [
    {
     "data": {
      "text/plain": [
       "array([ 2.23456   ,  4.94262817,  7.65069633, 10.3587645 ])"
      ]
     },
     "execution_count": 26,
     "metadata": {},
     "output_type": "execute_result"
    }
   ],
   "source": [
    "np.linspace(2.23456 , 10.3587645 , num=4)"
   ]
  },
  {
   "cell_type": "code",
   "execution_count": 27,
   "id": "7322a5b2",
   "metadata": {},
   "outputs": [
    {
     "data": {
      "text/plain": [
       "(array([ 2.23456   ,  4.94262817,  7.65069633, 10.3587645 ]),\n",
       " 2.7080681666666666)"
      ]
     },
     "execution_count": 27,
     "metadata": {},
     "output_type": "execute_result"
    }
   ],
   "source": [
    "np.linspace(2.23456 , 10.3587645 , num=4 , retstep=True)"
   ]
  },
  {
   "cell_type": "code",
   "execution_count": 28,
   "id": "5c884d2f",
   "metadata": {},
   "outputs": [],
   "source": [
    "x=np.arange(30).reshape(6,5)"
   ]
  },
  {
   "cell_type": "code",
   "execution_count": 29,
   "id": "02ac3faf",
   "metadata": {},
   "outputs": [
    {
     "data": {
      "text/plain": [
       "array([[ 0,  1,  2,  3,  4],\n",
       "       [ 5,  6,  7,  8,  9],\n",
       "       [10, 11, 12, 13, 14],\n",
       "       [15, 16, 17, 18, 19],\n",
       "       [20, 21, 22, 23, 24],\n",
       "       [25, 26, 27, 28, 29]])"
      ]
     },
     "execution_count": 29,
     "metadata": {},
     "output_type": "execute_result"
    }
   ],
   "source": [
    "x"
   ]
  },
  {
   "cell_type": "markdown",
   "id": "7bb1bf71",
   "metadata": {},
   "source": [
    "# Random number generation"
   ]
  },
  {
   "cell_type": "code",
   "execution_count": 30,
   "id": "93074f50",
   "metadata": {},
   "outputs": [
    {
     "name": "stdout",
     "output_type": "stream",
     "text": [
      "Randon number generation(from uniform distribution)\n",
      "[[0.40687361 0.82341415 0.1534251  0.52794341 0.56682344 0.39563742]\n",
      " [0.65091632 0.8801749  0.54196421 0.72876645 0.11219826 0.94442794]\n",
      " [0.16911289 0.18980736 0.78976649 0.80620039 0.93811382 0.00285599]\n",
      " [0.78837807 0.0951342  0.47678376 0.78207681 0.92302295 0.66201966]\n",
      " [0.05171707 0.52218021 0.28283749 0.75188866 0.54609899 0.1517959 ]\n",
      " [0.37945292 0.85201929 0.75865919 0.81927356 0.00231911 0.92994434]\n",
      " [0.68115096 0.42327525 0.20099115 0.14679957 0.26316473 0.46168902]\n",
      " [0.56920253 0.66960349 0.96084855 0.31117238 0.10975587 0.48587872]\n",
      " [0.97781705 0.16936267 0.53980575 0.94041033 0.65408044 0.14391316]\n",
      " [0.05921879 0.10433329 0.48362023 0.83596972 0.75692697 0.65665155]]\n"
     ]
    }
   ],
   "source": [
    "print(\"Randon number generation(from uniform distribution)\")\n",
    "print(np.random.rand(10,6))"
   ]
  },
  {
   "cell_type": "code",
   "execution_count": 31,
   "id": "8b41af2d",
   "metadata": {},
   "outputs": [
    {
     "name": "stdout",
     "output_type": "stream",
     "text": [
      "Number from normal distribution with zero mean and standard deviation 1 i.e. standard normal\n",
      "[[-0.25408052  0.8216789   0.77106201  0.05331119 -0.01638103  0.153177  ]\n",
      " [ 0.92233875 -1.11019333 -0.43351639 -0.02625336  0.43273144 -0.781539  ]\n",
      " [ 0.34996362  0.38562691  1.48930979 -1.21082594  0.04412877  0.30322162]\n",
      " [ 0.21048104 -0.92744492 -0.54430813  1.86499342  1.35556211  0.39008318]\n",
      " [ 1.0925637  -1.10777007  0.80178068  0.93990253  0.2451874  -0.92067713]\n",
      " [ 0.16004699 -0.3193815   1.50647111 -0.84797615 -1.13102507 -0.35728121]\n",
      " [-0.81859864  0.94706222  1.17448752  0.37726425  1.15988813  0.46223805]\n",
      " [ 1.24537896 -1.32304081 -0.37439967 -0.3881894   0.6710033  -0.52401482]\n",
      " [-0.9387985   0.46784134 -0.97731399  0.54332045 -1.16896051  0.38991102]\n",
      " [-2.89911329  0.14828527 -0.84997815  1.1278505  -1.68928338  0.42024337]]\n"
     ]
    }
   ],
   "source": [
    "print(\"Number from normal distribution with zero mean and standard deviation 1 i.e. standard normal\")\n",
    "print(np.random.randn(10,6))"
   ]
  },
  {
   "cell_type": "code",
   "execution_count": 32,
   "id": "ece50ff4",
   "metadata": {},
   "outputs": [
    {
     "name": "stdout",
     "output_type": "stream",
     "text": [
      "Random integer vector: [28 66 60 54 71 12 73 86 53 50 50 62 65 57 21 54 94 79 96 27 47 79 57 85\n",
      " 92 67 57 55 39 12 61 22 56 74 54 97 57 42 61 12 91 27 84 52 74 20 11 12\n",
      " 57 81]\n"
     ]
    }
   ],
   "source": [
    "print(\"Random integer vector:\",np.random.randint(10,100,50)) # randint(low,high,how many data wantp)"
   ]
  },
  {
   "cell_type": "code",
   "execution_count": 33,
   "id": "3397a4fd",
   "metadata": {},
   "outputs": [
    {
     "name": "stdout",
     "output_type": "stream",
     "text": [
      "\n",
      "Random integer matrix\n",
      "[[ 7  7 15 26 24  2  4]\n",
      " [28 23 28 19  8 12 18]\n",
      " [ 2  7 24 14  3 20 16]\n",
      " [ 9  6 14 25 23 12  7]\n",
      " [29  6 27 12 28 20 23]\n",
      " [18 25 12 22  5  3  3]]\n"
     ]
    }
   ],
   "source": [
    "print(\"\\nRandom integer matrix\")\n",
    "print(np.random.randint(1,30,(6,7)))"
   ]
  },
  {
   "cell_type": "code",
   "execution_count": 34,
   "id": "d80c36da",
   "metadata": {},
   "outputs": [
    {
     "name": "stdout",
     "output_type": "stream",
     "text": [
      "\n",
      "20 sample drawn from a dice throw: [3 5 4 3 2 1 6 3 1 5 6 2 4 6 4 4 1 1 1 2]\n"
     ]
    }
   ],
   "source": [
    "print(\"\\n20 sample drawn from a dice throw:\",np.random.randint(1,7,20))"
   ]
  },
  {
   "cell_type": "markdown",
   "id": "18312514",
   "metadata": {},
   "source": [
    "# Reshaping"
   ]
  },
  {
   "cell_type": "code",
   "execution_count": 35,
   "id": "6ebec523",
   "metadata": {},
   "outputs": [],
   "source": [
    "from numpy.random import randint as ri\n",
    "a=ri(1,99,30)"
   ]
  },
  {
   "cell_type": "code",
   "execution_count": 36,
   "id": "411ae3c1",
   "metadata": {},
   "outputs": [
    {
     "data": {
      "text/plain": [
       "array([42, 56, 43, 78, 95, 52, 86, 46, 77,  6, 11, 18, 76, 32, 58, 75, 74,\n",
       "       61, 14, 26, 49, 72, 42, 19, 81, 75, 69, 14, 94, 77])"
      ]
     },
     "execution_count": 36,
     "metadata": {},
     "output_type": "execute_result"
    }
   ],
   "source": [
    "a"
   ]
  },
  {
   "cell_type": "code",
   "execution_count": 37,
   "id": "092231f9",
   "metadata": {},
   "outputs": [
    {
     "data": {
      "text/plain": [
       "array([[[42, 56, 43],\n",
       "        [78, 95, 52],\n",
       "        [86, 46, 77],\n",
       "        [ 6, 11, 18],\n",
       "        [76, 32, 58]],\n",
       "\n",
       "       [[75, 74, 61],\n",
       "        [14, 26, 49],\n",
       "        [72, 42, 19],\n",
       "        [81, 75, 69],\n",
       "        [14, 94, 77]]])"
      ]
     },
     "execution_count": 37,
     "metadata": {},
     "output_type": "execute_result"
    }
   ],
   "source": [
    "b=a.reshape(2,5,3)\n",
    "b"
   ]
  },
  {
   "cell_type": "code",
   "execution_count": 38,
   "id": "188a55e7",
   "metadata": {},
   "outputs": [
    {
     "data": {
      "text/plain": [
       "array([[42, 56, 43, 78, 95],\n",
       "       [52, 86, 46, 77,  6],\n",
       "       [11, 18, 76, 32, 58],\n",
       "       [75, 74, 61, 14, 26],\n",
       "       [49, 72, 42, 19, 81],\n",
       "       [75, 69, 14, 94, 77]])"
      ]
     },
     "execution_count": 38,
     "metadata": {},
     "output_type": "execute_result"
    }
   ],
   "source": [
    "c=a.reshape(6,5)\n",
    "c"
   ]
  },
  {
   "cell_type": "code",
   "execution_count": 39,
   "id": "8d2edce6",
   "metadata": {},
   "outputs": [
    {
     "name": "stdout",
     "output_type": "stream",
     "text": [
      "Shape of a: (30,)\n",
      "Shape of b: (2, 5, 3)\n",
      "Shape of c: (6, 5)\n"
     ]
    }
   ],
   "source": [
    "print(\"Shape of a:\", a.shape)\n",
    "print(\"Shape of b:\", b.shape)\n",
    "print(\"Shape of c:\", c.shape)"
   ]
  },
  {
   "cell_type": "code",
   "execution_count": 40,
   "id": "de98be93",
   "metadata": {},
   "outputs": [
    {
     "name": "stdout",
     "output_type": "stream",
     "text": [
      "\n",
      "a lokk like\n",
      " -------------------- \n",
      " [42 56 43 78 95 52 86 46 77  6 11 18 76 32 58 75 74 61 14 26 49 72 42 19\n",
      " 81 75 69 14 94 77] \n",
      " --------------------\n",
      "\n",
      "b lokk like\n",
      " -------------------- \n",
      " [[[42 56 43]\n",
      "  [78 95 52]\n",
      "  [86 46 77]\n",
      "  [ 6 11 18]\n",
      "  [76 32 58]]\n",
      "\n",
      " [[75 74 61]\n",
      "  [14 26 49]\n",
      "  [72 42 19]\n",
      "  [81 75 69]\n",
      "  [14 94 77]]] \n",
      " --------------------\n",
      "\n",
      "c lokk like\n",
      " -------------------- \n",
      " [[42 56 43 78 95]\n",
      " [52 86 46 77  6]\n",
      " [11 18 76 32 58]\n",
      " [75 74 61 14 26]\n",
      " [49 72 42 19 81]\n",
      " [75 69 14 94 77]] \n",
      " --------------------\n"
     ]
    }
   ],
   "source": [
    "print(\"\\na lokk like\\n\",'-'*20,\"\\n\",a,\"\\n\",'-'*20)\n",
    "print(\"\\nb lokk like\\n\",'-'*20,\"\\n\",b,\"\\n\",'-'*20)\n",
    "print(\"\\nc lokk like\\n\",'-'*20,\"\\n\",c,\"\\n\",'-'*20)"
   ]
  },
  {
   "cell_type": "code",
   "execution_count": 41,
   "id": "6d15ffe3",
   "metadata": {},
   "outputs": [
    {
     "name": "stdout",
     "output_type": "stream",
     "text": [
      "\n",
      "Vector of random integers\n",
      " -------------------------------------------------- \n",
      " [99  8 73 29 37 21 53  9 34 31]\n",
      "\n",
      "Here is the sorted vector\n",
      " -------------------------------------------------- \n",
      " [ 8  9 21 29 31 34 37 53 73 99]\n"
     ]
    }
   ],
   "source": [
    "A=ri(1,100,10) #vector of random interegrs\n",
    "print(\"\\nVector of random integers\\n\",'-'*50,\"\\n\",A)\n",
    "print(\"\\nHere is the sorted vector\\n\",'-'*50,\"\\n\",np.sort(A, kind='quicksort'))"
   ]
  },
  {
   "cell_type": "code",
   "execution_count": 42,
   "id": "b07c4575",
   "metadata": {},
   "outputs": [
    {
     "name": "stdout",
     "output_type": "stream",
     "text": [
      "\n",
      "5X5 matrix of rendom integers\n",
      " -------------------------------------------------- \n",
      " [[57 86 62 20 21]\n",
      " [ 6 76 93 15 86]\n",
      " [42 77 89 27 22]\n",
      " [47 23 80 88 74]\n",
      " [16 79 39 51 18]]\n",
      "\n",
      "Here is the sorted matrix along each row\n",
      " -------------------------------------------------- \n",
      " [[20 21 57 62 86]\n",
      " [ 6 15 76 86 93]\n",
      " [22 27 42 77 89]\n",
      " [23 47 74 80 88]\n",
      " [16 18 39 51 79]]\n",
      "\n",
      "Here is the sorted matrix along each column\n",
      " -------------------------------------------------- \n",
      " [[ 6 23 39 15 18]\n",
      " [16 76 62 20 21]\n",
      " [42 77 80 27 22]\n",
      " [47 79 89 51 74]\n",
      " [57 86 93 88 86]]\n"
     ]
    }
   ],
   "source": [
    "M=ri(1,100,25).reshape(5,5)\n",
    "print(\"\\n5X5 matrix of rendom integers\\n\",'-'*50,\"\\n\",M)\n",
    "print(\"\\nHere is the sorted matrix along each row\\n\",'-'*50,\"\\n\",np.sort(M)) #Default axis=1\n",
    "print(\"\\nHere is the sorted matrix along each column\\n\",'-'*50,\"\\n\",np.sort(M, axis=0, kind='mergesort'))"
   ]
  },
  {
   "cell_type": "code",
   "execution_count": 43,
   "id": "9e73dd1c",
   "metadata": {},
   "outputs": [
    {
     "data": {
      "text/plain": [
       "array([42, 56, 43, 78, 95, 52, 86, 46, 77,  6, 11, 18, 76, 32, 58, 75, 74,\n",
       "       61, 14, 26, 49, 72, 42, 19, 81, 75, 69, 14, 94, 77])"
      ]
     },
     "execution_count": 43,
     "metadata": {},
     "output_type": "execute_result"
    }
   ],
   "source": [
    "a"
   ]
  },
  {
   "cell_type": "code",
   "execution_count": 44,
   "id": "92d8dcf2",
   "metadata": {},
   "outputs": [
    {
     "data": {
      "text/plain": [
       "array([[[42, 56, 43],\n",
       "        [78, 95, 52],\n",
       "        [86, 46, 77],\n",
       "        [ 6, 11, 18],\n",
       "        [76, 32, 58]],\n",
       "\n",
       "       [[75, 74, 61],\n",
       "        [14, 26, 49],\n",
       "        [72, 42, 19],\n",
       "        [81, 75, 69],\n",
       "        [14, 94, 77]]])"
      ]
     },
     "execution_count": 44,
     "metadata": {},
     "output_type": "execute_result"
    }
   ],
   "source": [
    "b"
   ]
  },
  {
   "cell_type": "code",
   "execution_count": 45,
   "id": "cf6cb4a3",
   "metadata": {},
   "outputs": [
    {
     "name": "stdout",
     "output_type": "stream",
     "text": [
      "Minimum of a: 6\n",
      "Maximum of b: 95\n"
     ]
    }
   ],
   "source": [
    "print(\"Minimum of a:\", a.min())\n",
    "print(\"Maximum of b:\", b.max())"
   ]
  },
  {
   "cell_type": "markdown",
   "id": "43979286",
   "metadata": {},
   "source": [
    "# Index and Slicing"
   ]
  },
  {
   "cell_type": "code",
   "execution_count": 46,
   "id": "5a649e8d",
   "metadata": {},
   "outputs": [
    {
     "name": "stdout",
     "output_type": "stream",
     "text": [
      "Array: [13 14 15 16 17 18 19 20 21 22 23 24 25 26 27 28 29]\n"
     ]
    }
   ],
   "source": [
    "arr=np.arange(13,30)\n",
    "print(\"Array:\",arr)"
   ]
  },
  {
   "cell_type": "code",
   "execution_count": 47,
   "id": "52c19182",
   "metadata": {},
   "outputs": [
    {
     "name": "stdout",
     "output_type": "stream",
     "text": [
      "20\n"
     ]
    }
   ],
   "source": [
    "print(arr[7])"
   ]
  },
  {
   "cell_type": "code",
   "execution_count": 48,
   "id": "249c5497",
   "metadata": {},
   "outputs": [
    {
     "name": "stdout",
     "output_type": "stream",
     "text": [
      "[16 17 18]\n"
     ]
    }
   ],
   "source": [
    "print(arr[3:6])"
   ]
  },
  {
   "cell_type": "code",
   "execution_count": 49,
   "id": "e719bdc1",
   "metadata": {},
   "outputs": [
    {
     "data": {
      "text/plain": [
       "array([17, 18, 19, 20, 21, 22, 23, 24, 25, 26, 27, 28, 29])"
      ]
     },
     "execution_count": 49,
     "metadata": {},
     "output_type": "execute_result"
    }
   ],
   "source": [
    "abc=arr[4:]\n",
    "abc"
   ]
  },
  {
   "cell_type": "code",
   "execution_count": 50,
   "id": "9a8b932f",
   "metadata": {},
   "outputs": [
    {
     "data": {
      "text/plain": [
       "array([29, 27, 25, 23, 21, 19, 17, 15, 13])"
      ]
     },
     "execution_count": 50,
     "metadata": {},
     "output_type": "execute_result"
    }
   ],
   "source": [
    "arr[-1::-2]"
   ]
  },
  {
   "cell_type": "code",
   "execution_count": 51,
   "id": "03f82c78",
   "metadata": {},
   "outputs": [
    {
     "data": {
      "text/plain": [
       "array([29, 28, 27, 26, 25, 24, 23])"
      ]
     },
     "execution_count": 51,
     "metadata": {},
     "output_type": "execute_result"
    }
   ],
   "source": [
    "arr[-1:-8:-1]"
   ]
  },
  {
   "cell_type": "code",
   "execution_count": 52,
   "id": "9ba52bd0",
   "metadata": {},
   "outputs": [
    {
     "data": {
      "text/plain": [
       "array([15, 17, 22])"
      ]
     },
     "execution_count": 52,
     "metadata": {},
     "output_type": "execute_result"
    }
   ],
   "source": [
    "arr[[2,4,9]]"
   ]
  },
  {
   "cell_type": "code",
   "execution_count": 53,
   "id": "98a33bf3",
   "metadata": {},
   "outputs": [
    {
     "name": "stdout",
     "output_type": "stream",
     "text": [
      "New array: [ 0  2  4  6  8 10 12 14 16 18 20]\n"
     ]
    }
   ],
   "source": [
    "arr=np.arange(0,21,2)\n",
    "print(\"New array:\",arr)"
   ]
  },
  {
   "cell_type": "code",
   "execution_count": 54,
   "id": "2d85ab2a",
   "metadata": {},
   "outputs": [
    {
     "data": {
      "text/plain": [
       "array([[1, 2, 3],\n",
       "       [4, 5, 6],\n",
       "       [7, 8, 9]])"
      ]
     },
     "execution_count": 54,
     "metadata": {},
     "output_type": "execute_result"
    }
   ],
   "source": [
    "mat"
   ]
  },
  {
   "cell_type": "code",
   "execution_count": 55,
   "id": "c965a89f",
   "metadata": {},
   "outputs": [
    {
     "data": {
      "text/plain": [
       "6"
      ]
     },
     "execution_count": 55,
     "metadata": {},
     "output_type": "execute_result"
    }
   ],
   "source": [
    "mat[1][2]"
   ]
  },
  {
   "cell_type": "code",
   "execution_count": 56,
   "id": "07c0dbc3",
   "metadata": {},
   "outputs": [
    {
     "data": {
      "text/plain": [
       "array([7, 8, 9])"
      ]
     },
     "execution_count": 56,
     "metadata": {},
     "output_type": "execute_result"
    }
   ],
   "source": [
    "mat[2]"
   ]
  },
  {
   "cell_type": "code",
   "execution_count": 57,
   "id": "257c996e",
   "metadata": {},
   "outputs": [
    {
     "data": {
      "text/plain": [
       "array([[2, 3],\n",
       "       [5, 6],\n",
       "       [8, 9]])"
      ]
     },
     "execution_count": 57,
     "metadata": {},
     "output_type": "execute_result"
    }
   ],
   "source": [
    "mat[:,1:]"
   ]
  },
  {
   "cell_type": "code",
   "execution_count": 58,
   "id": "2693cded",
   "metadata": {},
   "outputs": [
    {
     "data": {
      "text/plain": [
       "array([[2],\n",
       "       [5],\n",
       "       [8]])"
      ]
     },
     "execution_count": 58,
     "metadata": {},
     "output_type": "execute_result"
    }
   ],
   "source": [
    "mat[:,1:2]"
   ]
  },
  {
   "cell_type": "code",
   "execution_count": 59,
   "id": "0196c1c7",
   "metadata": {},
   "outputs": [
    {
     "data": {
      "text/plain": [
       "array([[1, 2, 3],\n",
       "       [4, 5, 6],\n",
       "       [7, 8, 9]])"
      ]
     },
     "execution_count": 59,
     "metadata": {},
     "output_type": "execute_result"
    }
   ],
   "source": [
    "mat[:,:]"
   ]
  },
  {
   "cell_type": "code",
   "execution_count": 60,
   "id": "8ec90c38",
   "metadata": {},
   "outputs": [
    {
     "data": {
      "text/plain": [
       "array([[1, 3],\n",
       "       [4, 6]])"
      ]
     },
     "execution_count": 60,
     "metadata": {},
     "output_type": "execute_result"
    }
   ],
   "source": [
    "mat[0:2,[0,2]]"
   ]
  },
  {
   "cell_type": "code",
   "execution_count": 61,
   "id": "5d234b05",
   "metadata": {},
   "outputs": [
    {
     "data": {
      "text/plain": [
       "array([4, 9])"
      ]
     },
     "execution_count": 61,
     "metadata": {},
     "output_type": "execute_result"
    }
   ],
   "source": [
    "mat[[1,2],[0,2]]"
   ]
  },
  {
   "cell_type": "markdown",
   "id": "b1db6297",
   "metadata": {},
   "source": [
    "# Subseting"
   ]
  },
  {
   "cell_type": "code",
   "execution_count": 62,
   "id": "bd1a391f",
   "metadata": {},
   "outputs": [
    {
     "data": {
      "text/plain": [
       "array([[72, 10, 86, 79, 95],\n",
       "       [64, 14, 43, 69, 19],\n",
       "       [72, 18, 35, 19, 79]])"
      ]
     },
     "execution_count": 62,
     "metadata": {},
     "output_type": "execute_result"
    }
   ],
   "source": [
    "sat=np.array(ri(10,100,15)).reshape(3,5)\n",
    "sat"
   ]
  },
  {
   "cell_type": "code",
   "execution_count": 63,
   "id": "bc4ec3e5",
   "metadata": {},
   "outputs": [
    {
     "name": "stdout",
     "output_type": "stream",
     "text": [
      "[72 86 79 95 64 69 72 79]\n"
     ]
    }
   ],
   "source": [
    "print(sat[sat>50])"
   ]
  },
  {
   "cell_type": "code",
   "execution_count": 64,
   "id": "e9554c01",
   "metadata": {},
   "outputs": [
    {
     "data": {
      "text/plain": [
       "array([[ True, False,  True,  True,  True],\n",
       "       [ True, False, False,  True, False],\n",
       "       [ True, False, False, False,  True]])"
      ]
     },
     "execution_count": 64,
     "metadata": {},
     "output_type": "execute_result"
    }
   ],
   "source": [
    "sat>50"
   ]
  },
  {
   "cell_type": "markdown",
   "id": "336dd09f",
   "metadata": {},
   "source": [
    "# Slicing"
   ]
  },
  {
   "cell_type": "code",
   "execution_count": 65,
   "id": "6d9b6281",
   "metadata": {},
   "outputs": [
    {
     "data": {
      "text/plain": [
       "array([[11, 12, 13],\n",
       "       [21, 22, 23],\n",
       "       [31, 32, 33]])"
      ]
     },
     "execution_count": 65,
     "metadata": {},
     "output_type": "execute_result"
    }
   ],
   "source": [
    "nat=np.array([[11,12,13],[21,22,23],[31,32,33]])\n",
    "nat"
   ]
  },
  {
   "cell_type": "code",
   "execution_count": 66,
   "id": "82097e93",
   "metadata": {},
   "outputs": [
    {
     "data": {
      "text/plain": [
       "array([[11, 12],\n",
       "       [21, 22]])"
      ]
     },
     "execution_count": 66,
     "metadata": {},
     "output_type": "execute_result"
    }
   ],
   "source": [
    "nat1=nat[:2,:2]\n",
    "nat1"
   ]
  },
  {
   "cell_type": "code",
   "execution_count": 67,
   "id": "a7932acf",
   "metadata": {},
   "outputs": [
    {
     "name": "stdout",
     "output_type": "stream",
     "text": [
      "[[100  12]\n",
      " [ 21  22]]\n",
      "\n",
      " [[100  12  13]\n",
      " [ 21  22  23]\n",
      " [ 31  32  33]]\n"
     ]
    }
   ],
   "source": [
    "nat1[0,0]=100\n",
    "print(nat1)\n",
    "print(\"\\n\",nat)"
   ]
  },
  {
   "cell_type": "markdown",
   "id": "041880f1",
   "metadata": {},
   "source": [
    "# Universal Functions"
   ]
  },
  {
   "cell_type": "code",
   "execution_count": 68,
   "id": "387f4ffa",
   "metadata": {},
   "outputs": [
    {
     "name": "stdout",
     "output_type": "stream",
     "text": [
      "a1:\n",
      " [[8 6 9]\n",
      " [1 5 5]\n",
      " [5 3 2]]\n",
      "\n",
      "\n",
      "a2:\n",
      " [[7 8 8]\n",
      " [2 4 5]\n",
      " [1 1 7]]\n"
     ]
    }
   ],
   "source": [
    "a1=np.array(ri(1,10,9).reshape(3,3))\n",
    "a2=np.array(ri(1,10,9).reshape(3,3))\n",
    "print(\"a1:\\n\",a1)\n",
    "print(\"\\n\")\n",
    "print(\"a2:\\n\",a2)"
   ]
  },
  {
   "cell_type": "code",
   "execution_count": 69,
   "id": "f267b778",
   "metadata": {},
   "outputs": [
    {
     "data": {
      "text/plain": [
       "array([[15, 14, 17],\n",
       "       [ 3,  9, 10],\n",
       "       [ 6,  4,  9]])"
      ]
     },
     "execution_count": 69,
     "metadata": {},
     "output_type": "execute_result"
    }
   ],
   "source": [
    "a1+a2"
   ]
  },
  {
   "cell_type": "code",
   "execution_count": 70,
   "id": "5a90da5b",
   "metadata": {},
   "outputs": [
    {
     "data": {
      "text/plain": [
       "array([[56, 48, 72],\n",
       "       [ 2, 20, 25],\n",
       "       [ 5,  3, 14]])"
      ]
     },
     "execution_count": 70,
     "metadata": {},
     "output_type": "execute_result"
    }
   ],
   "source": [
    "a1*a2"
   ]
  },
  {
   "cell_type": "code",
   "execution_count": 71,
   "id": "51f7c670",
   "metadata": {},
   "outputs": [
    {
     "data": {
      "text/plain": [
       "array([[ 1, -2,  1],\n",
       "       [-1,  1,  0],\n",
       "       [ 4,  2, -5]])"
      ]
     },
     "execution_count": 71,
     "metadata": {},
     "output_type": "execute_result"
    }
   ],
   "source": [
    "a1-a2"
   ]
  },
  {
   "cell_type": "code",
   "execution_count": 72,
   "id": "cef56185",
   "metadata": {},
   "outputs": [
    {
     "data": {
      "text/plain": [
       "array([[1.14285714, 0.75      , 1.125     ],\n",
       "       [0.5       , 1.25      , 1.        ],\n",
       "       [5.        , 3.        , 0.28571429]])"
      ]
     },
     "execution_count": 72,
     "metadata": {},
     "output_type": "execute_result"
    }
   ],
   "source": [
    "a1/a2"
   ]
  },
  {
   "cell_type": "code",
   "execution_count": 73,
   "id": "6bddc405",
   "metadata": {},
   "outputs": [
    {
     "data": {
      "text/plain": [
       "array([[38, 34, 43],\n",
       "       [ 7, 23, 25],\n",
       "       [17, 11, 20]])"
      ]
     },
     "execution_count": 73,
     "metadata": {},
     "output_type": "execute_result"
    }
   ],
   "source": [
    "3*a1+2*a2"
   ]
  },
  {
   "cell_type": "code",
   "execution_count": 74,
   "id": "57c786f2",
   "metadata": {},
   "outputs": [
    {
     "data": {
      "text/plain": [
       "array([[8],\n",
       "       [1],\n",
       "       [5]])"
      ]
     },
     "execution_count": 74,
     "metadata": {},
     "output_type": "execute_result"
    }
   ],
   "source": [
    "a3=a1[:,:1]\n",
    "a3"
   ]
  },
  {
   "cell_type": "code",
   "execution_count": 75,
   "id": "1f279d1e",
   "metadata": {},
   "outputs": [
    {
     "data": {
      "text/plain": [
       "array([[8, 6, 9],\n",
       "       [1, 5, 5],\n",
       "       [5, 3, 2]])"
      ]
     },
     "execution_count": 75,
     "metadata": {},
     "output_type": "execute_result"
    }
   ],
   "source": [
    "a1"
   ]
  },
  {
   "cell_type": "code",
   "execution_count": 76,
   "id": "c36fb09b",
   "metadata": {},
   "outputs": [
    {
     "data": {
      "text/plain": [
       "array([[16, 14, 17],\n",
       "       [ 2,  6,  6],\n",
       "       [10,  8,  7]])"
      ]
     },
     "execution_count": 76,
     "metadata": {},
     "output_type": "execute_result"
    }
   ],
   "source": [
    "a1+a3"
   ]
  },
  {
   "cell_type": "code",
   "execution_count": 77,
   "id": "18bf5785",
   "metadata": {},
   "outputs": [
    {
     "data": {
      "text/plain": [
       "array([[64, 48, 72],\n",
       "       [ 1,  5,  5],\n",
       "       [25, 15, 10]])"
      ]
     },
     "execution_count": 77,
     "metadata": {},
     "output_type": "execute_result"
    }
   ],
   "source": [
    "a1*a3"
   ]
  },
  {
   "cell_type": "code",
   "execution_count": 78,
   "id": "c30fa5f6",
   "metadata": {},
   "outputs": [
    {
     "data": {
      "text/plain": [
       "array([[64, 36, 81],\n",
       "       [ 1, 25, 25],\n",
       "       [25,  9,  4]], dtype=int32)"
      ]
     },
     "execution_count": 78,
     "metadata": {},
     "output_type": "execute_result"
    }
   ],
   "source": [
    "a1**2"
   ]
  },
  {
   "cell_type": "code",
   "execution_count": 79,
   "id": "4ce2cf31",
   "metadata": {},
   "outputs": [
    {
     "data": {
      "text/plain": [
       "array([[2.82842712, 2.44948974, 3.        ],\n",
       "       [1.        , 2.23606798, 2.23606798],\n",
       "       [2.23606798, 1.73205081, 1.41421356]])"
      ]
     },
     "execution_count": 79,
     "metadata": {},
     "output_type": "execute_result"
    }
   ],
   "source": [
    "pow(a1,0.5)"
   ]
  },
  {
   "cell_type": "code",
   "execution_count": 80,
   "id": "e0a813c5",
   "metadata": {},
   "outputs": [
    {
     "data": {
      "text/plain": [
       "array([[8, 6, 9],\n",
       "       [1, 5, 5],\n",
       "       [5, 3, 2]])"
      ]
     },
     "execution_count": 80,
     "metadata": {},
     "output_type": "execute_result"
    }
   ],
   "source": [
    "a1"
   ]
  },
  {
   "cell_type": "code",
   "execution_count": 81,
   "id": "6e1df061",
   "metadata": {},
   "outputs": [
    {
     "data": {
      "text/plain": [
       "array([[7, 8, 8],\n",
       "       [2, 4, 5],\n",
       "       [1, 1, 7]])"
      ]
     },
     "execution_count": 81,
     "metadata": {},
     "output_type": "execute_result"
    }
   ],
   "source": [
    "a2"
   ]
  },
  {
   "cell_type": "markdown",
   "id": "fecee952",
   "metadata": {},
   "source": [
    "# Broadcasting"
   ]
  },
  {
   "cell_type": "code",
   "execution_count": 82,
   "id": "7b427880",
   "metadata": {},
   "outputs": [
    {
     "data": {
      "text/plain": [
       "array([[0., 0., 0.],\n",
       "       [0., 0., 0.],\n",
       "       [0., 0., 0.]])"
      ]
     },
     "execution_count": 82,
     "metadata": {},
     "output_type": "execute_result"
    }
   ],
   "source": [
    "st=np.zeros((3,3))\n",
    "st"
   ]
  },
  {
   "cell_type": "code",
   "execution_count": 83,
   "id": "9c7d07d4",
   "metadata": {},
   "outputs": [
    {
     "data": {
      "text/plain": [
       "array([1, 0, 2])"
      ]
     },
     "execution_count": 83,
     "metadata": {},
     "output_type": "execute_result"
    }
   ],
   "source": [
    "ad=np.array([1,0,2])\n",
    "ad"
   ]
  },
  {
   "cell_type": "code",
   "execution_count": 84,
   "id": "2f3f1d5c",
   "metadata": {},
   "outputs": [
    {
     "data": {
      "text/plain": [
       "array([[1., 0., 2.],\n",
       "       [1., 0., 2.],\n",
       "       [1., 0., 2.]])"
      ]
     },
     "execution_count": 84,
     "metadata": {},
     "output_type": "execute_result"
    }
   ],
   "source": [
    "st+ad"
   ]
  },
  {
   "cell_type": "code",
   "execution_count": 85,
   "id": "5f716f29",
   "metadata": {},
   "outputs": [
    {
     "data": {
      "text/plain": [
       "array([[0],\n",
       "       [1],\n",
       "       [2],\n",
       "       [3]])"
      ]
     },
     "execution_count": 85,
     "metadata": {},
     "output_type": "execute_result"
    }
   ],
   "source": [
    "ad1=np.array([[0,1,2,3]])\n",
    "ad1=ad1.T\n",
    "ad1"
   ]
  },
  {
   "cell_type": "code",
   "execution_count": null,
   "id": "d88f2718",
   "metadata": {},
   "outputs": [],
   "source": []
  }
 ],
 "metadata": {
  "kernelspec": {
   "display_name": "Python 3",
   "language": "python",
   "name": "python3"
  },
  "language_info": {
   "codemirror_mode": {
    "name": "ipython",
    "version": 3
   },
   "file_extension": ".py",
   "mimetype": "text/x-python",
   "name": "python",
   "nbconvert_exporter": "python",
   "pygments_lexer": "ipython3",
   "version": "3.8.8"
  }
 },
 "nbformat": 4,
 "nbformat_minor": 5
}
