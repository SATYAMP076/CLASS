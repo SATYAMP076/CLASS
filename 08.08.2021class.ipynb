{
 "cells": [
  {
   "cell_type": "markdown",
   "id": "79755a82",
   "metadata": {},
   "source": [
    "# Branching\n",
    "(if, elif ,else )"
   ]
  },
  {
   "cell_type": "code",
   "execution_count": 4,
   "id": "0e52b3b8",
   "metadata": {},
   "outputs": [
    {
     "name": "stdout",
     "output_type": "stream",
     "text": [
      "less than 15\n"
     ]
    }
   ],
   "source": [
    "i=18\n",
    "\n",
    "if i < 13:\n",
    "    print('less than 13') #before print 4time space is called indentation\n",
    "\n",
    "elif i < 15:\n",
    "    print('less than 15')\n",
    "    \n",
    "else:\n",
    "    print('15 or more') # as soon any condition true next other condition not checked. "
   ]
  },
  {
   "cell_type": "code",
   "execution_count": 10,
   "id": "8e1e0256",
   "metadata": {},
   "outputs": [
    {
     "name": "stdout",
     "output_type": "stream",
     "text": [
      "it is not ok\n"
     ]
    }
   ],
   "source": [
    "i=15\n",
    "j=23\n",
    "\n",
    "if i>j:\n",
    "    print('it is okk')\n",
    "else:\n",
    "    print('it is not ok')"
   ]
  },
  {
   "cell_type": "code",
   "execution_count": 11,
   "id": "c63249a1",
   "metadata": {},
   "outputs": [
    {
     "name": "stdout",
     "output_type": "stream",
     "text": [
      "B\n"
     ]
    }
   ],
   "source": [
    "a=5\n",
    "\n",
    "b=7\n",
    "print(\"A\") if a>b else print(\"B\")\n"
   ]
  },
  {
   "cell_type": "code",
   "execution_count": 15,
   "id": "e772b6fe",
   "metadata": {},
   "outputs": [
    {
     "name": "stdout",
     "output_type": "stream",
     "text": [
      "it is eql\n"
     ]
    }
   ],
   "source": [
    "a=330\n",
    "b=330\n",
    "print(\"A\") if a>b else print(\"it is eql\") if a==b else print (\"B\")"
   ]
  },
  {
   "cell_type": "code",
   "execution_count": 18,
   "id": "02a2f227",
   "metadata": {},
   "outputs": [
    {
     "name": "stdout",
     "output_type": "stream",
     "text": [
      "both conditions are true\n"
     ]
    }
   ],
   "source": [
    "a=200\n",
    "b=33\n",
    "c=500\n",
    "\n",
    "if a>b and c>a:\n",
    "    print(\"both conditions are true\")\n",
    "else:\n",
    "    print('both are not true')"
   ]
  },
  {
   "cell_type": "code",
   "execution_count": 23,
   "id": "1312455d",
   "metadata": {},
   "outputs": [
    {
     "name": "stdout",
     "output_type": "stream",
     "text": [
      "At least one of the condition is true\n"
     ]
    }
   ],
   "source": [
    "a=200\n",
    "b=33\n",
    "c=500\n",
    "\n",
    "if a>b or c>a:\n",
    "    print(\"At least one of the condition is true\")\n"
   ]
  },
  {
   "cell_type": "code",
   "execution_count": 33,
   "id": "a674a07e",
   "metadata": {},
   "outputs": [
    {
     "name": "stdout",
     "output_type": "stream",
     "text": [
      "above ten,\n",
      "its not above 50!\n"
     ]
    }
   ],
   "source": [
    "x = 25\n",
    "\n",
    "if x > 20:\n",
    "    print(\"above ten,\")\n",
    "    if x > 50:\n",
    "        print(\"and also above 50!\")\n",
    "    else:\n",
    "        print(\"its not above 50!\")\n",
    "else:\n",
    "    print(\"but not above 50.\")"
   ]
  },
  {
   "cell_type": "code",
   "execution_count": 34,
   "id": "d6bd5fdf",
   "metadata": {},
   "outputs": [],
   "source": [
    "a=10\n",
    "b=20\n",
    "\n",
    "if b>a:\n",
    "    pass"
   ]
  },
  {
   "cell_type": "code",
   "execution_count": 35,
   "id": "494ce7f9",
   "metadata": {},
   "outputs": [
    {
     "name": "stdout",
     "output_type": "stream",
     "text": [
      "its not present\n"
     ]
    }
   ],
   "source": [
    "i=25\n",
    "if (i==10):\n",
    "    print(\"i is 10\")\n",
    "elif(i==15):\n",
    "    print(\"i is 15\")\n",
    "else:\n",
    "    print('its not present')"
   ]
  },
  {
   "cell_type": "code",
   "execution_count": 39,
   "id": "7ad343d7",
   "metadata": {},
   "outputs": [
    {
     "name": "stdout",
     "output_type": "stream",
     "text": [
      "its not 20\n"
     ]
    }
   ],
   "source": [
    "i=22\n",
    "j=21\n",
    "k=20\n",
    "\n",
    "if i>j:\n",
    "    if j>k:\n",
    "        if k == '20':\n",
    "            print('its 20')\n",
    "        else:\n",
    "            print('its not 20')\n",
    "    else:\n",
    "        print('K')\n",
    "else:\n",
    "    print('something')\n",
    "        "
   ]
  },
  {
   "cell_type": "code",
   "execution_count": null,
   "id": "0b22b2eb",
   "metadata": {},
   "outputs": [],
   "source": [
    "i=22\n",
    "j=21\n",
    "k=20\n",
    "\n",
    "if i>j:\n",
    "    if j>k:\n",
    "        if k == 20:\n",
    "            print('its 20')\n",
    "        else:\n",
    "            print('its not 20')\n",
    "    else:\n",
    "        print('K')\n",
    "else:\n",
    "    print('something')"
   ]
  },
  {
   "cell_type": "markdown",
   "id": "0b4ce4e6",
   "metadata": {},
   "source": [
    "# Loop"
   ]
  },
  {
   "cell_type": "code",
   "execution_count": 42,
   "id": "3b693a58",
   "metadata": {},
   "outputs": [
    {
     "name": "stdout",
     "output_type": "stream",
     "text": [
      "['satyam', 'patel', 'shivam', 'aman']\n"
     ]
    }
   ],
   "source": [
    "name=['satyam','patel','shivam','aman']\n",
    "print(name)"
   ]
  },
  {
   "cell_type": "code",
   "execution_count": 47,
   "id": "a669e05a",
   "metadata": {},
   "outputs": [
    {
     "name": "stdout",
     "output_type": "stream",
     "text": [
      "satyam\n",
      "patel\n",
      "shivam\n",
      "aman\n"
     ]
    }
   ],
   "source": [
    "name=['satyam','patel','shivam','aman']\n",
    "\n",
    "for i in name:\n",
    "    print(i)"
   ]
  },
  {
   "cell_type": "code",
   "execution_count": 48,
   "id": "2a047188",
   "metadata": {},
   "outputs": [
    {
     "name": "stdout",
     "output_type": "stream",
     "text": [
      "700\n",
      "800\n",
      "1200\n"
     ]
    }
   ],
   "source": [
    "salary=[200,400,500,700,800,1200]\n",
    "for val in salary:\n",
    "    if val > 500:\n",
    "        print(val)"
   ]
  },
  {
   "cell_type": "code",
   "execution_count": 54,
   "id": "5695bcf4",
   "metadata": {},
   "outputs": [
    {
     "name": "stdout",
     "output_type": "stream",
     "text": [
      "200\n",
      "400\n"
     ]
    }
   ],
   "source": [
    "salary=[200,400,500,700,800,1200]\n",
    "for val in salary:\n",
    "    if val < 500:\n",
    "        print(val)"
   ]
  },
  {
   "cell_type": "code",
   "execution_count": 50,
   "id": "7355d10a",
   "metadata": {},
   "outputs": [
    {
     "name": "stdout",
     "output_type": "stream",
     "text": [
      "500\n"
     ]
    }
   ],
   "source": [
    "salary=[200,400,500,700,800,1200]\n",
    "for val in salary:\n",
    "    if val == 500:\n",
    "        print(val)"
   ]
  },
  {
   "cell_type": "markdown",
   "id": "815843fe",
   "metadata": {},
   "source": [
    "# List Comprehension"
   ]
  },
  {
   "cell_type": "code",
   "execution_count": 56,
   "id": "db5bf1ba",
   "metadata": {},
   "outputs": [
    {
     "data": {
      "text/plain": [
       "[700, 800, 1200]"
      ]
     },
     "execution_count": 56,
     "metadata": {},
     "output_type": "execute_result"
    }
   ],
   "source": [
    "sal=[val for val in salary if val > 550]\n",
    "sal"
   ]
  },
  {
   "cell_type": "code",
   "execution_count": 4,
   "id": "4cd543f9",
   "metadata": {},
   "outputs": [
    {
     "name": "stdout",
     "output_type": "stream",
     "text": [
      "till_date=> 10\n",
      "till_date=> 30\n",
      "till_date=> 60\n",
      "till_date=> 100\n",
      "till_date=> 150\n",
      "till_date=> 210\n",
      "till_date=> 280\n"
     ]
    }
   ],
   "source": [
    "daily_no=[10,20,30,40,50,60,70]\n",
    "till_date=0\n",
    "for i in daily_no:\n",
    "    #print(i)\n",
    "    till_date=till_date+i\n",
    "    print(\"till_date=>\",till_date)\n"
   ]
  },
  {
   "cell_type": "markdown",
   "id": "46f05df4",
   "metadata": {},
   "source": [
    "# While loop"
   ]
  },
  {
   "cell_type": "code",
   "execution_count": 15,
   "id": "654868b4",
   "metadata": {},
   "outputs": [
    {
     "name": "stdout",
     "output_type": "stream",
     "text": [
      "1\n",
      "3\n",
      "6\n",
      "10\n",
      "15\n",
      "21\n",
      "28\n",
      "36\n",
      "45\n",
      "55\n",
      "sum= 55\n"
     ]
    }
   ],
   "source": [
    "n=10\n",
    "i = 1\n",
    "Sum = 0\n",
    "while i <= n:\n",
    "    Sum = Sum + i\n",
    "    i= i+ 1\n",
    "    print(Sum)\n",
    "print(\"sum=\",Sum)"
   ]
  },
  {
   "cell_type": "code",
   "execution_count": null,
   "id": "c478d638",
   "metadata": {},
   "outputs": [],
   "source": []
  }
 ],
 "metadata": {
  "kernelspec": {
   "display_name": "Python 3",
   "language": "python",
   "name": "python3"
  },
  "language_info": {
   "codemirror_mode": {
    "name": "ipython",
    "version": 3
   },
   "file_extension": ".py",
   "mimetype": "text/x-python",
   "name": "python",
   "nbconvert_exporter": "python",
   "pygments_lexer": "ipython3",
   "version": "3.8.8"
  }
 },
 "nbformat": 4,
 "nbformat_minor": 5
}
