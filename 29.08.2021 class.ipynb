{
 "cells": [
  {
   "cell_type": "code",
   "execution_count": 1,
   "id": "8704190f",
   "metadata": {},
   "outputs": [],
   "source": [
    "import mysql.connector"
   ]
  },
  {
   "cell_type": "code",
   "execution_count": 2,
   "id": "ba746579",
   "metadata": {},
   "outputs": [
    {
     "name": "stdout",
     "output_type": "stream",
     "text": [
      "<mysql.connector.connection.MySQLConnection object at 0x00000191D82E66A0>\n"
     ]
    }
   ],
   "source": [
    "mydb=mysql.connector.connect(\n",
    "    host=\"localhost\",\n",
    "    user=\"root\",\n",
    "    passwd=\"7289\"\n",
    ")\n",
    "print (mydb)"
   ]
  },
  {
   "cell_type": "code",
   "execution_count": 3,
   "id": "9d737abb",
   "metadata": {},
   "outputs": [
    {
     "name": "stdout",
     "output_type": "stream",
     "text": [
      "('database1',)\n",
      "('information_schema',)\n",
      "('mysql',)\n",
      "('performance_schema',)\n",
      "('satyam',)\n",
      "('sys',)\n"
     ]
    }
   ],
   "source": [
    "mycursor = mydb.cursor()\n",
    "\n",
    "mycursor.execute(\"SHOW DATABASES\")\n",
    "\n",
    "for x in mycursor:\n",
    "    print(x)"
   ]
  },
  {
   "cell_type": "code",
   "execution_count": 6,
   "id": "43439787",
   "metadata": {},
   "outputs": [],
   "source": [
    "mydb=mysql.connector.connect(\n",
    "    host=\"localhost\",\n",
    "    user=\"root\",\n",
    "    password=\"7289\",\n",
    "    database=\"database1\")\n",
    "\n",
    "mycursor = mydb.cursor()\n",
    "\n",
    "mycursor.execute(\"CREATE TABLE school1(gender varchar(6),student_id integer(10),marks integer(3))\")"
   ]
  },
  {
   "cell_type": "code",
   "execution_count": 7,
   "id": "32760e4b",
   "metadata": {},
   "outputs": [
    {
     "name": "stdout",
     "output_type": "stream",
     "text": [
      "('school',)\n",
      "('school1',)\n"
     ]
    }
   ],
   "source": [
    "mydb=mysql.connector.connect(\n",
    "    host=\"localhost\",\n",
    "    user=\"root\",\n",
    "    password=\"7289\",\n",
    "    database=\"database1\")\n",
    "\n",
    "mycursor = mydb.cursor()\n",
    "\n",
    "mycursor.execute(\"SHOW TABLES\")\n",
    "for x in mycursor:\n",
    "    print(x)"
   ]
  },
  {
   "cell_type": "code",
   "execution_count": 11,
   "id": "31537391",
   "metadata": {},
   "outputs": [
    {
     "name": "stdout",
     "output_type": "stream",
     "text": [
      "-1 record inserted\n"
     ]
    }
   ],
   "source": [
    "sql=\"INSERT INTO school (gender,student_id,marks) VALUES (male,20172595,96)\"\n",
    "mycursor=mydb.cursor(sql)\n",
    "mydb.commit()\n",
    "print(mycursor.rowcount,\"record inserted\")"
   ]
  },
  {
   "cell_type": "code",
   "execution_count": 9,
   "id": "0f78931d",
   "metadata": {},
   "outputs": [
    {
     "name": "stdout",
     "output_type": "stream",
     "text": [
      "3 record inserted\n"
     ]
    }
   ],
   "source": [
    "sql=\"INSERT INTO school (gender,student_id,marks)VALUES (%s,%s,%s)\"\n",
    "val=((\"male\",10856,55),(\"female\",10869,52),(\"male\",10854,69))\n",
    "mycursor.executemany(sql,val)\n",
    "mydb.commit()\n",
    "print(mycursor.rowcount,\"record inserted\")"
   ]
  },
  {
   "cell_type": "code",
   "execution_count": 12,
   "id": "c188b843",
   "metadata": {},
   "outputs": [
    {
     "name": "stdout",
     "output_type": "stream",
     "text": [
      "('male', 10854, 69)\n",
      "('male', 10854, 69)\n",
      "('male', 10856, 55)\n",
      "('male', 10856, 55)\n",
      "('female', 10869, 52)\n",
      "('female', 10869, 52)\n"
     ]
    }
   ],
   "source": [
    "mycursor = mydb.cursor()\n",
    "mycursor.execute(\"SELECT * FROM school ORDER BY marks desc\")\n",
    "for x in mycursor:\n",
    "    print(x)"
   ]
  },
  {
   "cell_type": "markdown",
   "id": "d2ca93e5",
   "metadata": {},
   "source": [
    "# load external file"
   ]
  },
  {
   "cell_type": "code",
   "execution_count": 13,
   "id": "cc4d3d99",
   "metadata": {},
   "outputs": [
    {
     "name": "stdout",
     "output_type": "stream",
     "text": [
      "('local_infile', 'OFF')\n"
     ]
    }
   ],
   "source": [
    "mycursor.execute(\"SHOW VARIABLES LIKE 'local_infile'\")\n",
    "for x in mycursor:\n",
    "    print(x)"
   ]
  },
  {
   "cell_type": "code",
   "execution_count": 14,
   "id": "82bd28dd",
   "metadata": {},
   "outputs": [],
   "source": [
    "mycursor.execute(\"SET GLOBAL local_infile=ON\")"
   ]
  },
  {
   "cell_type": "code",
   "execution_count": 15,
   "id": "690a97b4",
   "metadata": {},
   "outputs": [
    {
     "name": "stdout",
     "output_type": "stream",
     "text": [
      "('local_infile', 'ON')\n"
     ]
    }
   ],
   "source": [
    "mycursor.execute(\"SHOW VARIABLES LIKE 'local_infile'\")\n",
    "for x in mycursor:\n",
    "    print(x)"
   ]
  },
  {
   "cell_type": "code",
   "execution_count": 17,
   "id": "3e0999fe",
   "metadata": {},
   "outputs": [
    {
     "name": "stdout",
     "output_type": "stream",
     "text": [
      "('secure_file_priv', 'C:\\\\ProgramData\\\\MySQL\\\\MySQL Server 8.0\\\\Uploads\\\\')\n"
     ]
    }
   ],
   "source": [
    "#check the folder from where the file it will pick. \n",
    "mycursor.execute(\"SHOW VARIABLES LIKE 'secure_file_priv'\")\n",
    "for x in mycursor:\n",
    "    print(x)"
   ]
  },
  {
   "cell_type": "code",
   "execution_count": 18,
   "id": "04180a96",
   "metadata": {},
   "outputs": [
    {
     "name": "stdout",
     "output_type": "stream",
     "text": [
      "('male', 10856, 55)\n",
      "('female', 10869, 52)\n",
      "('male', 10854, 69)\n",
      "('male', 10856, 55)\n",
      "('female', 10869, 52)\n",
      "('male', 10854, 69)\n"
     ]
    }
   ],
   "source": [
    "mycursor.execute(\"SELECT * FROM school\")\n",
    "for x in mycursor:\n",
    "    print(x)"
   ]
  },
  {
   "cell_type": "code",
   "execution_count": 25,
   "id": "f219da98",
   "metadata": {},
   "outputs": [
    {
     "ename": "SyntaxError",
     "evalue": "(unicode error) 'unicodeescape' codec can't decode bytes in position 56-57: truncated \\UXXXXXXXX escape (<ipython-input-25-565a0aa0adaa>, line 1)",
     "output_type": "error",
     "traceback": [
      "\u001b[1;36m  File \u001b[1;32m\"<ipython-input-25-565a0aa0adaa>\"\u001b[1;36m, line \u001b[1;32m1\u001b[0m\n\u001b[1;33m    mycursor.execute(\"LOAD DATA IN FILE 'C:\\ProgramData\\MySQL\\MySQL Server 8.0\\Uploads\\Copy of New Microsoft Excel Worksheet.csv'INTO TABLE school FIELDS TERMINATED BY',' LINE TERMINATER BY'\\n'\")\u001b[0m\n\u001b[1;37m                     ^\u001b[0m\n\u001b[1;31mSyntaxError\u001b[0m\u001b[1;31m:\u001b[0m (unicode error) 'unicodeescape' codec can't decode bytes in position 56-57: truncated \\UXXXXXXXX escape\n"
     ]
    }
   ],
   "source": [
    "mycursor.execute(\"LOAD DATA IN FILE 'C:\\ProgramData\\MySQL\\MySQL Server 8.0\\Uploads\\Copy of New Microsoft Excel Worksheet.csv'INTO TABLE school FIELDS TERMINATED BY',' LINE TERMINATER BY'\\n'\")\n",
    "mydb.commit"
   ]
  },
  {
   "cell_type": "code",
   "execution_count": null,
   "id": "7288cb15",
   "metadata": {},
   "outputs": [],
   "source": []
  }
 ],
 "metadata": {
  "kernelspec": {
   "display_name": "Python 3",
   "language": "python",
   "name": "python3"
  },
  "language_info": {
   "codemirror_mode": {
    "name": "ipython",
    "version": 3
   },
   "file_extension": ".py",
   "mimetype": "text/x-python",
   "name": "python",
   "nbconvert_exporter": "python",
   "pygments_lexer": "ipython3",
   "version": "3.8.8"
  }
 },
 "nbformat": 4,
 "nbformat_minor": 5
}
