{
 "cells": [
  {
   "cell_type": "code",
   "execution_count": 1,
   "id": "4865eb63",
   "metadata": {},
   "outputs": [],
   "source": [
    "import numpy as np\n",
    "import pandas as pd\n",
    "import seaborn as sns\n",
    "import matplotlib.pyplot as plt\n",
    "%matplotlib inline\n",
    "from numpy.random import randn"
   ]
  },
  {
   "cell_type": "code",
   "execution_count": 2,
   "id": "39e35efa",
   "metadata": {},
   "outputs": [
    {
     "data": {
      "text/html": [
       "<div>\n",
       "<style scoped>\n",
       "    .dataframe tbody tr th:only-of-type {\n",
       "        vertical-align: middle;\n",
       "    }\n",
       "\n",
       "    .dataframe tbody tr th {\n",
       "        vertical-align: top;\n",
       "    }\n",
       "\n",
       "    .dataframe thead th {\n",
       "        text-align: right;\n",
       "    }\n",
       "</style>\n",
       "<table border=\"1\" class=\"dataframe\">\n",
       "  <thead>\n",
       "    <tr style=\"text-align: right;\">\n",
       "      <th></th>\n",
       "      <th>Age_Year</th>\n",
       "      <th>Salary_ThousandS</th>\n",
       "    </tr>\n",
       "  </thead>\n",
       "  <tbody>\n",
       "    <tr>\n",
       "      <th>0</th>\n",
       "      <td>10</td>\n",
       "      <td>15</td>\n",
       "    </tr>\n",
       "    <tr>\n",
       "      <th>1</th>\n",
       "      <td>23</td>\n",
       "      <td>22</td>\n",
       "    </tr>\n",
       "    <tr>\n",
       "      <th>2</th>\n",
       "      <td>22</td>\n",
       "      <td>24</td>\n",
       "    </tr>\n",
       "    <tr>\n",
       "      <th>3</th>\n",
       "      <td>25</td>\n",
       "      <td>25</td>\n",
       "    </tr>\n",
       "    <tr>\n",
       "      <th>4</th>\n",
       "      <td>20</td>\n",
       "      <td>30</td>\n",
       "    </tr>\n",
       "  </tbody>\n",
       "</table>\n",
       "</div>"
      ],
      "text/plain": [
       "   Age_Year  Salary_ThousandS\n",
       "0        10                15\n",
       "1        23                22\n",
       "2        22                24\n",
       "3        25                25\n",
       "4        20                30"
      ]
     },
     "execution_count": 2,
     "metadata": {},
     "output_type": "execute_result"
    }
   ],
   "source": [
    "emp={'Age_Year': [10,23,22,25,20,23,24,27,25,24,33,21],'Salary_ThousandS':[15,22,24,25,30,23,34,43,19,20,52,21]}\n",
    "\n",
    "df=pd.DataFrame(data=emp)\n",
    "df.head()"
   ]
  },
  {
   "cell_type": "code",
   "execution_count": 3,
   "id": "cfa1db59",
   "metadata": {},
   "outputs": [
    {
     "data": {
      "text/plain": [
       "<AxesSubplot:>"
      ]
     },
     "execution_count": 3,
     "metadata": {},
     "output_type": "execute_result"
    },
    {
     "data": {
      "image/png": "[encoded data removed]",
      "text/plain": [
       "<Figure size 576x360 with 1 Axes>"
      ]
     },
     "metadata": {
      "needs_background": "light"
     },
     "output_type": "display_data"
    }
   ],
   "source": [
    "df.plot(kind='box', figsize=(8,5), color='r', yticks=range(0,55,5))"
   ]
  },
  {
   "cell_type": "code",
   "execution_count": 4,
   "id": "9a29081f",
   "metadata": {},
   "outputs": [
    {
     "data": {
      "text/plain": [
       "[15, 19, 20, 21, 22, 23, 24, 25, 30, 34, 43, 52]"
      ]
     },
     "execution_count": 4,
     "metadata": {},
     "output_type": "execute_result"
    }
   ],
   "source": [
    "sal=[15,22,24,25,30,23,34,43,19,20,52,21]\n",
    "sal.sort()\n",
    "sal"
   ]
  },
  {
   "cell_type": "markdown",
   "id": "d8e8b597",
   "metadata": {},
   "source": [
    " EXAMPLE\n",
    " \n",
    " [15, 19, 20, 21, 22, 23, 24, 24, 25, 30, 43, 52]\n",
    " \n",
    " \n",
    "n=total element in the  DataFrame(12 items here)\n",
    " \n",
    "25%=(25/100)*(n+1)=3.5(data at 3.5 position is the 25% percentile. Let's say around 20.50)\n",
    "\n",
    "50%=(50/100)*(n+1)=6.5( data at this position)\n",
    "\n",
    "75%=(75/100)*(n+1)=9.75( data at this position)"
   ]
  },
  {
   "cell_type": "code",
   "execution_count": 5,
   "id": "84f8dee3",
   "metadata": {},
   "outputs": [],
   "source": [
    "ser=pd.Series(sal)"
   ]
  },
  {
   "cell_type": "markdown",
   "id": "424a5990",
   "metadata": {},
   "source": [
    "\n",
    "# Outliers"
   ]
  },
  {
   "cell_type": "code",
   "execution_count": 6,
   "id": "b7ef422a",
   "metadata": {},
   "outputs": [
    {
     "data": {
      "text/plain": [
       "0     15\n",
       "1     19\n",
       "2     20\n",
       "3     21\n",
       "4     22\n",
       "5     23\n",
       "6     24\n",
       "7     25\n",
       "8     30\n",
       "9     34\n",
       "10    43\n",
       "11    52\n",
       "dtype: int64"
      ]
     },
     "execution_count": 6,
     "metadata": {},
     "output_type": "execute_result"
    }
   ],
   "source": [
    "ser"
   ]
  },
  {
   "cell_type": "code",
   "execution_count": 7,
   "id": "ccca6a4e",
   "metadata": {},
   "outputs": [
    {
     "name": "stdout",
     "output_type": "stream",
     "text": [
      "Q1 20.75\n",
      "Q2 23.5\n",
      "Q3 31.0\n",
      "IQR 10.25\n"
     ]
    }
   ],
   "source": [
    "#1st quantile\n",
    "q1=ser.quantile(0.25)\n",
    "print('Q1',q1)\n",
    "\n",
    "#2nd quantile\n",
    "q2=ser.quantile(0.50)\n",
    "print('Q2',q2)\n",
    "\n",
    "#3rd quantile\n",
    "q3=ser.quantile(0.75)\n",
    "print('Q3',q3)\n",
    "\n",
    "#find the IQR (inter quantile range) to identify qutliers\n",
    "\n",
    "iqr=q3-q1\n",
    "\n",
    "print('IQR',iqr)"
   ]
  },
  {
   "cell_type": "markdown",
   "id": "19fd5859",
   "metadata": {},
   "source": [
    "# Outlier dection formula\n",
    "\n",
    "higher side==> Q3+(1.5*IQR)\n",
    "\n",
    "\n",
    "lower side==> Q1-(1.5*IQR)"
   ]
  },
  {
   "cell_type": "code",
   "execution_count": 8,
   "id": "5cd9d01b",
   "metadata": {},
   "outputs": [
    {
     "name": "stdout",
     "output_type": "stream",
     "text": [
      "46.375\n"
     ]
    }
   ],
   "source": [
    "upside=q3+(1.5*iqr)\n",
    "print(upside)"
   ]
  },
  {
   "cell_type": "markdown",
   "id": "0586b97f",
   "metadata": {},
   "source": [
    "Anithing above 46.375 is outlier"
   ]
  },
  {
   "cell_type": "code",
   "execution_count": 9,
   "id": "af389e10",
   "metadata": {},
   "outputs": [
    {
     "name": "stdout",
     "output_type": "stream",
     "text": [
      "5.375\n"
     ]
    }
   ],
   "source": [
    "lower_side=q1-(1.5*iqr)\n",
    "print(lower_side)"
   ]
  },
  {
   "cell_type": "markdown",
   "id": "ca792c75",
   "metadata": {},
   "source": [
    "Anithing below 5.375 is outlier"
   ]
  },
  {
   "cell_type": "code",
   "execution_count": null,
   "id": "54cd3330",
   "metadata": {},
   "outputs": [],
   "source": []
  }
 ],
 "metadata": {
  "kernelspec": {
   "display_name": "Python 3",
   "language": "python",
   "name": "python3"
  },
  "language_info": {
   "codemirror_mode": {
    "name": "ipython",
    "version": 3
   },
   "file_extension": ".py",
   "mimetype": "text/x-python",
   "name": "python",
   "nbconvert_exporter": "python",
   "pygments_lexer": "ipython3",
   "version": "3.8.8"
  }
 },
 "nbformat": 4,
 "nbformat_minor": 5
}
