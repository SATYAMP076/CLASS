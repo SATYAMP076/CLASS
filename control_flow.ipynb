{
 "cells": [
  {
   "cell_type": "code",
   "execution_count": 1,
   "id": "62d54a50",
   "metadata": {},
   "outputs": [
    {
     "name": "stdout",
     "output_type": "stream",
     "text": [
      "19 10000\n",
      "119 9500\n"
     ]
    }
   ],
   "source": [
    "#if phone_balance < 100:\n",
    "#phone_balance += 500\n",
    "#bank_balance -= 500\n",
    "\n",
    "phone_balance = 19\n",
    "bank_balance = 10000\n",
    "print(phone_balance, bank_balance)\n",
    "\n",
    "if phone_balance<100:\n",
    "    phone_balance += 100\n",
    "    bank_balance -= 500\n",
    "print (phone_balance, bank_balance)\n"
   ]
  },
  {
   "cell_type": "code",
   "execution_count": null,
   "id": "40af1c4a",
   "metadata": {},
   "outputs": [],
   "source": []
  },
  {
   "cell_type": "code",
   "execution_count": null,
   "id": "e7964bcc",
   "metadata": {},
   "outputs": [],
   "source": []
  },
  {
   "cell_type": "code",
   "execution_count": null,
   "id": "8e3ee6b8",
   "metadata": {},
   "outputs": [],
   "source": []
  }
 ],
 "metadata": {
  "kernelspec": {
   "display_name": "Python 3",
   "language": "python",
   "name": "python3"
  },
  "language_info": {
   "codemirror_mode": {
    "name": "ipython",
    "version": 3
   },
   "file_extension": ".py",
   "mimetype": "text/x-python",
   "name": "python",
   "nbconvert_exporter": "python",
   "pygments_lexer": "ipython3",
   "version": "3.8.8"
  }
 },
 "nbformat": 4,
 "nbformat_minor": 5
}
