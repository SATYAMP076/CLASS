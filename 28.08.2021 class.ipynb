{
 "cells": [
  {
   "cell_type": "markdown",
   "id": "2f8c689d",
   "metadata": {},
   "source": [
    "# try and except"
   ]
  },
  {
   "cell_type": "code",
   "execution_count": 1,
   "id": "4f371f13",
   "metadata": {},
   "outputs": [
    {
     "name": "stdout",
     "output_type": "stream",
     "text": [
      "error:could not file or read data\n"
     ]
    }
   ],
   "source": [
    "try:\n",
    "    f=open('sat1996.txt','w')\n",
    "    f.read()\n",
    "except IOError:\n",
    "    print(\"error:could not file or read data\")\n",
    "else:\n",
    "    \n",
    "    print(\"content written successfully\")\n",
    "    f.close"
   ]
  },
  {
   "cell_type": "code",
   "execution_count": 2,
   "id": "a940fe7a",
   "metadata": {},
   "outputs": [
    {
     "name": "stdout",
     "output_type": "stream",
     "text": [
      "content written successfully\n"
     ]
    }
   ],
   "source": [
    "try:\n",
    "    f=open('sat1996.txt',)\n",
    "    f.read()\n",
    "except IOError:\n",
    "    print(\"error:could not file or read data\")\n",
    "else:\n",
    "    \n",
    "    print(\"content written successfully\")\n",
    "    f.close"
   ]
  },
  {
   "cell_type": "code",
   "execution_count": 3,
   "id": "ad833e9d",
   "metadata": {},
   "outputs": [
    {
     "name": "stdout",
     "output_type": "stream",
     "text": [
      "alwase execute finally code blocks\n"
     ]
    },
    {
     "ename": "UnsupportedOperation",
     "evalue": "not writable",
     "output_type": "error",
     "traceback": [
      "\u001b[1;31m---------------------------------------------------------------------------\u001b[0m",
      "\u001b[1;31mUnsupportedOperation\u001b[0m                      Traceback (most recent call last)",
      "\u001b[1;32m<ipython-input-3-351d9927ca46>\u001b[0m in \u001b[0;36m<module>\u001b[1;34m\u001b[0m\n\u001b[0;32m      1\u001b[0m \u001b[1;32mtry\u001b[0m\u001b[1;33m:\u001b[0m\u001b[1;33m\u001b[0m\u001b[1;33m\u001b[0m\u001b[0m\n\u001b[0;32m      2\u001b[0m     \u001b[0mf\u001b[0m\u001b[1;33m=\u001b[0m\u001b[0mopen\u001b[0m\u001b[1;33m(\u001b[0m\u001b[1;34m\"sat1996.txt\"\u001b[0m\u001b[1;33m,\u001b[0m\u001b[1;34m\"r\"\u001b[0m\u001b[1;33m)\u001b[0m\u001b[1;33m\u001b[0m\u001b[1;33m\u001b[0m\u001b[0m\n\u001b[1;32m----> 3\u001b[1;33m     \u001b[0mf\u001b[0m\u001b[1;33m.\u001b[0m\u001b[0mwrite\u001b[0m\u001b[1;33m(\u001b[0m\u001b[1;34m\"test write statement\"\u001b[0m\u001b[1;33m)\u001b[0m\u001b[1;33m\u001b[0m\u001b[1;33m\u001b[0m\u001b[0m\n\u001b[0m\u001b[0;32m      4\u001b[0m \u001b[1;33m\u001b[0m\u001b[0m\n\u001b[0;32m      5\u001b[0m \u001b[1;32mfinally\u001b[0m\u001b[1;33m:\u001b[0m\u001b[1;33m\u001b[0m\u001b[1;33m\u001b[0m\u001b[0m\n",
      "\u001b[1;31mUnsupportedOperation\u001b[0m: not writable"
     ]
    }
   ],
   "source": [
    "try:\n",
    "    f=open(\"sat1996.txt\",\"r\")\n",
    "    f.write(\"test write statement\")\n",
    "    \n",
    "finally:\n",
    "    print(\"alwase execute finally code blocks\")"
   ]
  },
  {
   "cell_type": "code",
   "execution_count": 4,
   "id": "2252eae4",
   "metadata": {},
   "outputs": [],
   "source": [
    "def askint():\n",
    "    try:\n",
    "        val=int(input(\"enter phone number\"))\n",
    "    except:\n",
    "        print(\"look like you did not enter phone no. \")\n",
    "    finally:\n",
    "        print(\"finally  you enter phone no.\")\n",
    "        \n",
    "    print(val)"
   ]
  },
  {
   "cell_type": "code",
   "execution_count": 5,
   "id": "23e22842",
   "metadata": {},
   "outputs": [
    {
     "name": "stdout",
     "output_type": "stream",
     "text": [
      "enter phone number9893\n",
      "finally  you enter phone no.\n",
      "9893\n"
     ]
    }
   ],
   "source": [
    "askint()"
   ]
  },
  {
   "cell_type": "code",
   "execution_count": 6,
   "id": "43f7bc08",
   "metadata": {},
   "outputs": [
    {
     "name": "stdout",
     "output_type": "stream",
     "text": [
      "enter phone numberxx\n",
      "look like you did not enter phone no. \n",
      "finally  you enter phone no.\n"
     ]
    },
    {
     "ename": "UnboundLocalError",
     "evalue": "local variable 'val' referenced before assignment",
     "output_type": "error",
     "traceback": [
      "\u001b[1;31m---------------------------------------------------------------------------\u001b[0m",
      "\u001b[1;31mUnboundLocalError\u001b[0m                         Traceback (most recent call last)",
      "\u001b[1;32m<ipython-input-6-cc291aa76c10>\u001b[0m in \u001b[0;36m<module>\u001b[1;34m\u001b[0m\n\u001b[1;32m----> 1\u001b[1;33m \u001b[0maskint\u001b[0m\u001b[1;33m(\u001b[0m\u001b[1;33m)\u001b[0m\u001b[1;33m\u001b[0m\u001b[1;33m\u001b[0m\u001b[0m\n\u001b[0m",
      "\u001b[1;32m<ipython-input-4-a66f59604db6>\u001b[0m in \u001b[0;36maskint\u001b[1;34m()\u001b[0m\n\u001b[0;32m      7\u001b[0m         \u001b[0mprint\u001b[0m\u001b[1;33m(\u001b[0m\u001b[1;34m\"finally  you enter phone no.\"\u001b[0m\u001b[1;33m)\u001b[0m\u001b[1;33m\u001b[0m\u001b[1;33m\u001b[0m\u001b[0m\n\u001b[0;32m      8\u001b[0m \u001b[1;33m\u001b[0m\u001b[0m\n\u001b[1;32m----> 9\u001b[1;33m     \u001b[0mprint\u001b[0m\u001b[1;33m(\u001b[0m\u001b[0mval\u001b[0m\u001b[1;33m)\u001b[0m\u001b[1;33m\u001b[0m\u001b[1;33m\u001b[0m\u001b[0m\n\u001b[0m",
      "\u001b[1;31mUnboundLocalError\u001b[0m: local variable 'val' referenced before assignment"
     ]
    }
   ],
   "source": [
    "askint()"
   ]
  },
  {
   "cell_type": "code",
   "execution_count": 7,
   "id": "02760ee4",
   "metadata": {},
   "outputs": [],
   "source": [
    "def askintt():\n",
    "    try:\n",
    "        val=int(input(\"please enter phone no. :\"))\n",
    "    except:\n",
    "        print(\"look like you did not enter phone no.\")\n",
    "        val=int(input(\"try-again pls enter phone no.\"))\n",
    "    finally:\n",
    "        print(\"finally you enter phone no.\")\n",
    "    print(val)"
   ]
  },
  {
   "cell_type": "code",
   "execution_count": 8,
   "id": "a9938096",
   "metadata": {},
   "outputs": [
    {
     "name": "stdout",
     "output_type": "stream",
     "text": [
      "please enter phone no. :cx\n",
      "look like you did not enter phone no.\n",
      "try-again pls enter phone no.44\n",
      "finally you enter phone no.\n",
      "44\n"
     ]
    }
   ],
   "source": [
    "askintt()"
   ]
  },
  {
   "cell_type": "code",
   "execution_count": 9,
   "id": "87f6a7ec",
   "metadata": {},
   "outputs": [],
   "source": [
    "def askint():\n",
    "    while True:\n",
    "        try:\n",
    "            val=int(input(\"please enput phone no.:\"))\n",
    "        except:\n",
    "            print(\"look like you did not enter a phone no.:\")\n",
    "            continue\n",
    "        else:\n",
    "            print(\"yes you did\")\n",
    "            break\n",
    "        finally:\n",
    "            print(\"finally you enter.\")\n",
    "        print(val)"
   ]
  },
  {
   "cell_type": "code",
   "execution_count": 10,
   "id": "8a4c0165",
   "metadata": {},
   "outputs": [
    {
     "name": "stdout",
     "output_type": "stream",
     "text": [
      "please enput phone no.:xx\n",
      "look like you did not enter a phone no.:\n",
      "finally you enter.\n",
      "please enput phone no.:zz\n",
      "look like you did not enter a phone no.:\n",
      "finally you enter.\n",
      "please enput phone no.:65\n",
      "yes you did\n",
      "finally you enter.\n"
     ]
    }
   ],
   "source": [
    "askint()"
   ]
  },
  {
   "cell_type": "code",
   "execution_count": 11,
   "id": "b1851cae",
   "metadata": {},
   "outputs": [],
   "source": [
    "def akint():\n",
    "    while True:\n",
    "        try:\n",
    "            val=int(input(\"please enput phone no.:\"))\n",
    "        except:\n",
    "            print(\"look like you did not enter a phone no.:\")\n",
    "            continue\n",
    "        else:\n",
    "            print(\"yes you did\")\n",
    "            break\n",
    "       \n",
    "    print(val)"
   ]
  },
  {
   "cell_type": "code",
   "execution_count": 12,
   "id": "8ad3b842",
   "metadata": {},
   "outputs": [
    {
     "name": "stdout",
     "output_type": "stream",
     "text": [
      "please enput phone no.:99\n",
      "yes you did\n",
      "99\n"
     ]
    }
   ],
   "source": [
    "akint()"
   ]
  },
  {
   "cell_type": "markdown",
   "id": "5df8692c",
   "metadata": {},
   "source": [
    "# object oriented programming"
   ]
  },
  {
   "cell_type": "markdown",
   "id": "26073d8d",
   "metadata": {},
   "source": [
    "1 How to define class"
   ]
  },
  {
   "cell_type": "code",
   "execution_count": 13,
   "id": "c9eaed82",
   "metadata": {},
   "outputs": [
    {
     "name": "stdout",
     "output_type": "stream",
     "text": [
      "satyam pATEL was born in 1996.\n"
     ]
    }
   ],
   "source": [
    "class person:\n",
    "    def __init__(self,name,surname,year_of_birth):\n",
    "        self.name=name\n",
    "        self.surname=surname\n",
    "        self.year_of_birth=year_of_birth\n",
    "    def __str__ (self):\n",
    "        return \"%s %s was born in %d.\"%(self.name,self.surname,self.year_of_birth)        \n",
    "sa=person (\"satyam\",\"pATEL\",1996)\n",
    "print(sa)"
   ]
  },
  {
   "cell_type": "code",
   "execution_count": 14,
   "id": "3eb40418",
   "metadata": {},
   "outputs": [
    {
     "name": "stdout",
     "output_type": "stream",
     "text": [
      "satyam patel was born in 1996.\n",
      "satyam current age is 25\n"
     ]
    }
   ],
   "source": [
    "class person:\n",
    "    def __init__(self,name,surname,year_of_birth):\n",
    "        self.name=name\n",
    "        self.surname=surname\n",
    "        self.year_of_birth=year_of_birth\n",
    "        \n",
    "    def age (self,current_year):\n",
    "        return(current_year-self.year_of_birth)\n",
    "    \n",
    "    def name (self):\n",
    "        return(self.name)\n",
    "           \n",
    "    def __str__ (self):\n",
    "        return \"%s %s was born in %d.\"%(self.name,self.surname,self.year_of_birth)\n",
    "    \n",
    "sa = person (\"satyam\",\"patel\",1996)\n",
    "print(sa)\n",
    "print(sa.name,\"current age is\",sa.age(2021))"
   ]
  },
  {
   "cell_type": "markdown",
   "id": "31fe5dd3",
   "metadata": {},
   "source": [
    "# Inheritance"
   ]
  },
  {
   "cell_type": "code",
   "execution_count": 15,
   "id": "8454e158",
   "metadata": {},
   "outputs": [
    {
     "name": "stdout",
     "output_type": "stream",
     "text": [
      "sat born was born in 1996.\n"
     ]
    }
   ],
   "source": [
    "class student(person):\n",
    "    def __init__(self,student_id,*args):\n",
    "        super(student,self).__init__(*args)\n",
    "        self.student_id=student_id\n",
    "        \n",
    "cal=student(1,'sat','born',1996)\n",
    "print(cal)"
   ]
  },
  {
   "cell_type": "markdown",
   "id": "fda6ec7f",
   "metadata": {},
   "source": [
    "# Encapsulation"
   ]
  },
  {
   "cell_type": "code",
   "execution_count": 16,
   "id": "67c9cec2",
   "metadata": {},
   "outputs": [
    {
     "name": "stdout",
     "output_type": "stream",
     "text": [
      "Tyre: \n",
      " \tBranch: MRF\n",
      " \tbelted_bais: True\n",
      " \tOptimal pressure 34\n",
      "Engine: \n",
      " \t fuel type: Petrol\n",
      " \tNoise_level: 2.3\n",
      "Body: \n",
      " \tSize: SUV\n"
     ]
    }
   ],
   "source": [
    "class Tyres:\n",
    "    def __init__(self,branch,belted_bais,opt_pressure):\n",
    "        self.branch=branch\n",
    "        self.belted_bais=belted_bais\n",
    "        self.opt_pressure=opt_pressure\n",
    "    \n",
    "    def __str__(self):\n",
    "        return (\"Tyre: \\n \\tBranch: \"+self.branch+\n",
    "               \"\\n \\tbelted_bais: \"+str(self.belted_bais)+\n",
    "                \"\\n \\tOptimal pressure \"+ str(self.opt_pressure))\n",
    "\n",
    "class Engine:\n",
    "    def __init__(self, fule_type,noise_level):\n",
    "        self.fule_type=fule_type\n",
    "        self.noise_level=noise_level\n",
    "        \n",
    "    def __str__(self):\n",
    "        return (\"Engine: \\n \\t fuel type: \"+ self.fule_type+\n",
    "               \"\\n \\tNoise_level: \"+ str(self.noise_level))\n",
    "    \n",
    "class Body:\n",
    "    def __init__(self,size):\n",
    "        self.size=size\n",
    "    \n",
    "    def __str__(self):\n",
    "        return (\"Body: \\n \\tSize: \"+self.size)\n",
    "\n",
    "class Car:\n",
    "    def __init__(self,Tyres,Engine,Body):\n",
    "        self.Tyres=Tyres\n",
    "        self.Engine=Engine\n",
    "        self.Body=Body\n",
    "    \n",
    "    def __str__(self):\n",
    "        return str(self.Tyres)+\"\\n\"+str(self.Engine)+\"\\n\"+str(self.Body)\n",
    "    \n",
    "t=Tyres('MRF',True ,34)\n",
    "e=Engine('Petrol',2.3)\n",
    "b=Body('SUV')\n",
    "c=Car(t,e,b)\n",
    "print(c)"
   ]
  },
  {
   "cell_type": "code",
   "execution_count": 18,
   "id": "a58e259b",
   "metadata": {},
   "outputs": [
    {
     "name": "stdout",
     "output_type": "stream",
     "text": [
      "Compny Name: \n",
      " \t name:-NOKIA\n",
      " \tModel No:-7.2\n",
      "Display: \n",
      " \tType:-LCD\n",
      " \tRefresh Rate:-120hz\n",
      "Proccer: \n",
      " \t Name:-Snapdragan-462\n",
      " \tCore Type:-(8,)\n",
      " \tRam:-6\n",
      " \tStorage:-64\n"
     ]
    }
   ],
   "source": [
    "class display:\n",
    "    def __init__(self,Display_Type,Refresh_Rate):\n",
    "        self.Display_Type=Display_Type\n",
    "        self.Refresh_Rate=Refresh_Rate\n",
    "    \n",
    "    def __str__(self):\n",
    "        return (\"Display: \\n \\tType:-\"+self.Display_Type+\n",
    "               \"\\n \\tRefresh Rate:-\"+str(self.Refresh_Rate))\n",
    "    \n",
    "class name:\n",
    "    def __init__(self,namep,model_no):\n",
    "        self.namep=namep\n",
    "        self.model_no=model_no\n",
    "        \n",
    "    def __str__(self):\n",
    "        return(\"Compny Name: \\n \\t name:-\"+self.namep+\n",
    "              \"\\n \\tModel No:-\"+str(self.model_no))\n",
    "class proccer:\n",
    "    def __init__(self,names,core,ram,storage,):\n",
    "        self.names=names\n",
    "        self.core=core,\n",
    "        self.ram=ram\n",
    "        self.storage=storage\n",
    "        \n",
    "    def __str__(self):\n",
    "        return(\"Proccer: \\n \\t Name:-\"+self.names+\n",
    "              \"\\n \\tCore Type:-\"+str(self.core)+\n",
    "              \"\\n \\tRam:-\"+str(self.ram)+\n",
    "              \"\\n \\tStorage:-\"+str(self.storage))\n",
    "    \n",
    "class phone:\n",
    "    def __init__(self,name,display,proccer,):\n",
    "        self.name=name\n",
    "        self.display=display\n",
    "        self.proccer=proccer\n",
    "        \n",
    "    def __str__(self):\n",
    "        return (str(self.display) + '\\n' + str(self.name) + '\\n' + str(self.proccer))\n",
    "\n",
    "d=display('LCD','120hz')\n",
    "n=name('NOKIA',7.2)\n",
    "p=proccer('Snapdragan-462',8,6,64)\n",
    "m=phone(d,n,p)\n",
    "print(m)\n",
    "        "
   ]
  },
  {
   "cell_type": "code",
   "execution_count": null,
   "id": "6168d9c2",
   "metadata": {},
   "outputs": [],
   "source": []
  }
 ],
 "metadata": {
  "kernelspec": {
   "display_name": "Python 3",
   "language": "python",
   "name": "python3"
  },
  "language_info": {
   "codemirror_mode": {
    "name": "ipython",
    "version": 3
   },
   "file_extension": ".py",
   "mimetype": "text/x-python",
   "name": "python",
   "nbconvert_exporter": "python",
   "pygments_lexer": "ipython3",
   "version": "3.8.8"
  }
 },
 "nbformat": 4,
 "nbformat_minor": 5
}
