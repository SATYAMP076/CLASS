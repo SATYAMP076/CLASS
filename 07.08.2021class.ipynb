{
 "cells": [
  {
   "cell_type": "markdown",
   "id": "f24e672c",
   "metadata": {},
   "source": [
    "# index and slicing\n",
    "\n",
    "index and slicing of lists works just like in strings."
   ]
  },
  {
   "cell_type": "code",
   "execution_count": 18,
   "id": "524bb664",
   "metadata": {},
   "outputs": [],
   "source": [
    "my_list=['satyam','shivam','aman','khushi',72,11,55,]"
   ]
  },
  {
   "cell_type": "code",
   "execution_count": 19,
   "id": "68fa5f5f",
   "metadata": {},
   "outputs": [
    {
     "data": {
      "text/plain": [
       "'shivam'"
      ]
     },
     "execution_count": 19,
     "metadata": {},
     "output_type": "execute_result"
    }
   ],
   "source": [
    "#grab element based on index\n",
    "my_list[1]"
   ]
  },
  {
   "cell_type": "code",
   "execution_count": 20,
   "id": "f834a77b",
   "metadata": {},
   "outputs": [],
   "source": [
    "# update the data base on index\n",
    "my_list[4]=96"
   ]
  },
  {
   "cell_type": "code",
   "execution_count": 21,
   "id": "735ec907",
   "metadata": {},
   "outputs": [
    {
     "data": {
      "text/plain": [
       "['satyam', 'shivam', 'aman', 'khushi', 96, 11, 55]"
      ]
     },
     "execution_count": 21,
     "metadata": {},
     "output_type": "execute_result"
    }
   ],
   "source": [
    "my_list"
   ]
  },
  {
   "cell_type": "code",
   "execution_count": 22,
   "id": "511c55fc",
   "metadata": {},
   "outputs": [
    {
     "data": {
      "text/plain": [
       "['shivam', 'aman', 'khushi', 96, 11, 55]"
      ]
     },
     "execution_count": 22,
     "metadata": {},
     "output_type": "execute_result"
    }
   ],
   "source": [
    "# grab index 1 and everything and it\n",
    "my_list[1:]"
   ]
  },
  {
   "cell_type": "code",
   "execution_count": 23,
   "id": "d26785a5",
   "metadata": {},
   "outputs": [
    {
     "data": {
      "text/plain": [
       "['shivam', 'aman', 'khushi', 96]"
      ]
     },
     "execution_count": 23,
     "metadata": {},
     "output_type": "execute_result"
    }
   ],
   "source": [
    "my_list[1:5]"
   ]
  },
  {
   "cell_type": "code",
   "execution_count": 24,
   "id": "9fe048fe",
   "metadata": {},
   "outputs": [
    {
     "data": {
      "text/plain": [
       "['satyam', 'shivam', 'aman', 'khushi']"
      ]
     },
     "execution_count": 24,
     "metadata": {},
     "output_type": "execute_result"
    }
   ],
   "source": [
    "my_list[ :4]"
   ]
  },
  {
   "cell_type": "code",
   "execution_count": 25,
   "id": "53b16d6e",
   "metadata": {},
   "outputs": [],
   "source": [
    "print = (my_list*2)"
   ]
  },
  {
   "cell_type": "code",
   "execution_count": 26,
   "id": "19677f11",
   "metadata": {},
   "outputs": [
    {
     "data": {
      "text/plain": [
       "['satyam', 'shivam', 'aman', 'khushi', 96, 11, 55, 'nikita']"
      ]
     },
     "execution_count": 26,
     "metadata": {},
     "output_type": "execute_result"
    }
   ],
   "source": [
    "# we can also use '+' to concatenate lists.\n",
    "my_list+[\"nikita\"]\n",
    "# note this dose not actually change the original list."
   ]
  },
  {
   "cell_type": "code",
   "execution_count": 27,
   "id": "7ee84916",
   "metadata": {},
   "outputs": [
    {
     "data": {
      "text/plain": [
       "['satyam', 'shivam', 'aman', 'khushi', 96, 11, 55]"
      ]
     },
     "execution_count": 27,
     "metadata": {},
     "output_type": "execute_result"
    }
   ],
   "source": [
    "my_list"
   ]
  },
  {
   "cell_type": "code",
   "execution_count": 28,
   "id": "ccbfd061",
   "metadata": {},
   "outputs": [],
   "source": [
    "# make parmanant change reassign list\n",
    "my_list= my_list+['nikita']"
   ]
  },
  {
   "cell_type": "code",
   "execution_count": 29,
   "id": "2b5dcbe0",
   "metadata": {},
   "outputs": [
    {
     "data": {
      "text/plain": [
       "['satyam', 'shivam', 'aman', 'khushi', 96, 11, 55, 'nikita']"
      ]
     },
     "execution_count": 29,
     "metadata": {},
     "output_type": "execute_result"
    }
   ],
   "source": [
    "my_list\n"
   ]
  },
  {
   "cell_type": "code",
   "execution_count": 30,
   "id": "971e2781",
   "metadata": {},
   "outputs": [
    {
     "data": {
      "text/plain": [
       "['satyam',\n",
       " 'shivam',\n",
       " 'aman',\n",
       " 'khushi',\n",
       " 96,\n",
       " 11,\n",
       " 55,\n",
       " 'nikita',\n",
       " 'satyam',\n",
       " 'shivam',\n",
       " 'aman',\n",
       " 'khushi',\n",
       " 96,\n",
       " 11,\n",
       " 55,\n",
       " 'nikita']"
      ]
     },
     "execution_count": 30,
     "metadata": {},
     "output_type": "execute_result"
    }
   ],
   "source": [
    "my_list*2"
   ]
  },
  {
   "cell_type": "code",
   "execution_count": 31,
   "id": "7f861a23",
   "metadata": {},
   "outputs": [
    {
     "data": {
      "text/plain": [
       "['satyam', 'shivam', 'aman', 'khushi', 96, 11, 55, 'nikita']"
      ]
     },
     "execution_count": 31,
     "metadata": {},
     "output_type": "execute_result"
    }
   ],
   "source": [
    "#double list not parmanent\n",
    "my_list"
   ]
  },
  {
   "cell_type": "markdown",
   "id": "0fc54c45",
   "metadata": {},
   "source": [
    "# Advanced Lists"
   ]
  },
  {
   "cell_type": "markdown",
   "id": "86d32692",
   "metadata": {},
   "source": [
    "## count"
   ]
  },
  {
   "cell_type": "code",
   "execution_count": 32,
   "id": "fabb4f12",
   "metadata": {},
   "outputs": [],
   "source": [
    "marks = [10,20,30,40,10,50,60,80,90,70,50,66,22,10,20,10,30,10,20,55]"
   ]
  },
  {
   "cell_type": "code",
   "execution_count": 33,
   "id": "854d8fec",
   "metadata": {},
   "outputs": [
    {
     "data": {
      "text/plain": [
       "5"
      ]
     },
     "execution_count": 33,
     "metadata": {},
     "output_type": "execute_result"
    }
   ],
   "source": [
    "marks.count(10)"
   ]
  },
  {
   "cell_type": "markdown",
   "id": "65b32e32",
   "metadata": {},
   "source": [
    "## extend"
   ]
  },
  {
   "cell_type": "code",
   "execution_count": 82,
   "id": "30f9f670",
   "metadata": {},
   "outputs": [
    {
     "data": {
      "text/plain": [
       "[123, [4, 5]]"
      ]
     },
     "execution_count": 82,
     "metadata": {},
     "output_type": "execute_result"
    }
   ],
   "source": [
    "x=[123]\n",
    "x.append([4,5])\n",
    "x"
   ]
  },
  {
   "cell_type": "code",
   "execution_count": 35,
   "id": "a190f510",
   "metadata": {},
   "outputs": [
    {
     "data": {
      "text/plain": [
       "[1, 2, 3, 4, 5]"
      ]
     },
     "execution_count": 35,
     "metadata": {},
     "output_type": "execute_result"
    }
   ],
   "source": [
    "x=[1,2,3]\n",
    "x.extend([4,5])\n",
    "x"
   ]
  },
  {
   "cell_type": "markdown",
   "id": "35aacd56",
   "metadata": {},
   "source": [
    "## index\n",
    "not aplicable where duplicate data"
   ]
  },
  {
   "cell_type": "code",
   "execution_count": 36,
   "id": "b5f4d896",
   "metadata": {},
   "outputs": [],
   "source": [
    "roll_no=[101,102,103,104]"
   ]
  },
  {
   "cell_type": "code",
   "execution_count": 37,
   "id": "d5187e1e",
   "metadata": {},
   "outputs": [
    {
     "data": {
      "text/plain": [
       "3"
      ]
     },
     "execution_count": 37,
     "metadata": {},
     "output_type": "execute_result"
    }
   ],
   "source": [
    "roll_no.index(104)"
   ]
  },
  {
   "cell_type": "markdown",
   "id": "e762f7d4",
   "metadata": {},
   "source": [
    "## pop"
   ]
  },
  {
   "cell_type": "code",
   "execution_count": 38,
   "id": "fb8a03fd",
   "metadata": {},
   "outputs": [
    {
     "data": {
      "text/plain": [
       "['satyam', 'shivam', 'aman', 'khushi', 96, 11, 55, 'nikita']"
      ]
     },
     "execution_count": 38,
     "metadata": {},
     "output_type": "execute_result"
    }
   ],
   "source": [
    "my_list"
   ]
  },
  {
   "cell_type": "code",
   "execution_count": 39,
   "id": "4f26ac61",
   "metadata": {},
   "outputs": [
    {
     "data": {
      "text/plain": [
       "'nikita'"
      ]
     },
     "execution_count": 39,
     "metadata": {},
     "output_type": "execute_result"
    }
   ],
   "source": [
    "my_list.pop()"
   ]
  },
  {
   "cell_type": "code",
   "execution_count": 40,
   "id": "16c26fcc",
   "metadata": {},
   "outputs": [],
   "source": [
    "my_list=['satyam', 'shivam', 'aman', 'khushi', 72, 11, 55, 'nikita']"
   ]
  },
  {
   "cell_type": "code",
   "execution_count": 41,
   "id": "e40d4fe2",
   "metadata": {},
   "outputs": [
    {
     "data": {
      "text/plain": [
       "['satyam', 'shivam', 'aman', 'khushi', 72, 11, 55, 'nikita']"
      ]
     },
     "execution_count": 41,
     "metadata": {},
     "output_type": "execute_result"
    }
   ],
   "source": [
    "my_list"
   ]
  },
  {
   "cell_type": "code",
   "execution_count": 42,
   "id": "3dfbc75d",
   "metadata": {},
   "outputs": [
    {
     "data": {
      "text/plain": [
       "'aman'"
      ]
     },
     "execution_count": 42,
     "metadata": {},
     "output_type": "execute_result"
    }
   ],
   "source": [
    "my_list.pop(2)"
   ]
  },
  {
   "cell_type": "code",
   "execution_count": 43,
   "id": "ba30676f",
   "metadata": {},
   "outputs": [
    {
     "data": {
      "text/plain": [
       "['satyam', 'shivam', 'khushi', 72, 11, 55, 'nikita']"
      ]
     },
     "execution_count": 43,
     "metadata": {},
     "output_type": "execute_result"
    }
   ],
   "source": [
    "my_list"
   ]
  },
  {
   "cell_type": "markdown",
   "id": "a79e7540",
   "metadata": {},
   "source": [
    "## remove\n",
    "if there are duplicate remove whose frist accurse"
   ]
  },
  {
   "cell_type": "code",
   "execution_count": 44,
   "id": "a871b2ae",
   "metadata": {},
   "outputs": [],
   "source": [
    "roll_no=[101,102,103,104,103]"
   ]
  },
  {
   "cell_type": "code",
   "execution_count": 45,
   "id": "a4c1607a",
   "metadata": {},
   "outputs": [],
   "source": [
    "roll_no.remove(103)"
   ]
  },
  {
   "cell_type": "code",
   "execution_count": 46,
   "id": "24649bf9",
   "metadata": {},
   "outputs": [
    {
     "data": {
      "text/plain": [
       "[101, 102, 104, 103]"
      ]
     },
     "execution_count": 46,
     "metadata": {},
     "output_type": "execute_result"
    }
   ],
   "source": [
    "roll_no"
   ]
  },
  {
   "cell_type": "markdown",
   "id": "f36281c8",
   "metadata": {},
   "source": [
    "## reverse"
   ]
  },
  {
   "cell_type": "code",
   "execution_count": 47,
   "id": "057f1753",
   "metadata": {},
   "outputs": [
    {
     "data": {
      "text/plain": [
       "['nikita', 55, 11, 72, 'khushi', 'shivam', 'satyam']"
      ]
     },
     "execution_count": 47,
     "metadata": {},
     "output_type": "execute_result"
    }
   ],
   "source": [
    "my_list.reverse()\n",
    "my_list"
   ]
  },
  {
   "cell_type": "markdown",
   "id": "21440f2d",
   "metadata": {},
   "source": [
    "## sort"
   ]
  },
  {
   "cell_type": "code",
   "execution_count": 48,
   "id": "d491ed84",
   "metadata": {},
   "outputs": [
    {
     "data": {
      "text/plain": [
       "[1, 2, 3, 3, 4, 5, 6, 7, 7, 8, 9]"
      ]
     },
     "execution_count": 48,
     "metadata": {},
     "output_type": "execute_result"
    }
   ],
   "source": [
    "lst=[1,5,2,6,7,3,4,9,7,3,8]\n",
    "lst.sort()\n",
    "lst"
   ]
  },
  {
   "cell_type": "code",
   "execution_count": 49,
   "id": "20989875",
   "metadata": {},
   "outputs": [
    {
     "data": {
      "text/plain": [
       "[9, 8, 7, 7, 6, 5, 4, 3, 3, 2, 1]"
      ]
     },
     "execution_count": 49,
     "metadata": {},
     "output_type": "execute_result"
    }
   ],
   "source": [
    "lst=[1,5,2,6,7,3,4,9,7,3,8]\n",
    "lst.sort(reverse=True)\n",
    "lst"
   ]
  },
  {
   "cell_type": "markdown",
   "id": "ca3c97b1",
   "metadata": {},
   "source": [
    "# TUPLES"
   ]
  },
  {
   "cell_type": "markdown",
   "id": "8dcd80b9",
   "metadata": {},
   "source": [
    "1. Immutalility\n",
    "2.()\n",
    "3.all type data"
   ]
  },
  {
   "cell_type": "code",
   "execution_count": 50,
   "id": "eef2c6a6",
   "metadata": {},
   "outputs": [],
   "source": [
    "t=(1,2,3)"
   ]
  },
  {
   "cell_type": "code",
   "execution_count": 51,
   "id": "989d1018",
   "metadata": {},
   "outputs": [
    {
     "data": {
      "text/plain": [
       "tuple"
      ]
     },
     "execution_count": 51,
     "metadata": {},
     "output_type": "execute_result"
    }
   ],
   "source": [
    "type(t)"
   ]
  },
  {
   "cell_type": "code",
   "execution_count": 52,
   "id": "b1c23d02",
   "metadata": {},
   "outputs": [
    {
     "data": {
      "text/plain": [
       "[1, 2, 3]"
      ]
     },
     "execution_count": 52,
     "metadata": {},
     "output_type": "execute_result"
    }
   ],
   "source": [
    "l=list(t)\n",
    "l"
   ]
  },
  {
   "cell_type": "code",
   "execution_count": 53,
   "id": "0158a92e",
   "metadata": {},
   "outputs": [
    {
     "data": {
      "text/plain": [
       "list"
      ]
     },
     "execution_count": 53,
     "metadata": {},
     "output_type": "execute_result"
    }
   ],
   "source": [
    "type(l)"
   ]
  },
  {
   "cell_type": "code",
   "execution_count": 54,
   "id": "7e2e1d09",
   "metadata": {},
   "outputs": [
    {
     "data": {
      "text/plain": [
       "(1, 2, 3)"
      ]
     },
     "execution_count": 54,
     "metadata": {},
     "output_type": "execute_result"
    }
   ],
   "source": [
    "t=tuple(l)\n",
    "t"
   ]
  },
  {
   "cell_type": "code",
   "execution_count": 55,
   "id": "adf9c77a",
   "metadata": {},
   "outputs": [
    {
     "data": {
      "text/plain": [
       "3"
      ]
     },
     "execution_count": 55,
     "metadata": {},
     "output_type": "execute_result"
    }
   ],
   "source": [
    "len(t)"
   ]
  },
  {
   "cell_type": "code",
   "execution_count": 56,
   "id": "3da9bdeb",
   "metadata": {},
   "outputs": [
    {
     "data": {
      "text/plain": [
       "3"
      ]
     },
     "execution_count": 56,
     "metadata": {},
     "output_type": "execute_result"
    }
   ],
   "source": [
    "t[2]"
   ]
  },
  {
   "cell_type": "code",
   "execution_count": 57,
   "id": "8589e851",
   "metadata": {},
   "outputs": [
    {
     "data": {
      "text/plain": [
       "0"
      ]
     },
     "execution_count": 57,
     "metadata": {},
     "output_type": "execute_result"
    }
   ],
   "source": [
    "t.index(1)"
   ]
  },
  {
   "cell_type": "code",
   "execution_count": 58,
   "id": "dba1f8a1",
   "metadata": {},
   "outputs": [
    {
     "data": {
      "text/plain": [
       "1"
      ]
     },
     "execution_count": 58,
     "metadata": {},
     "output_type": "execute_result"
    }
   ],
   "source": [
    "t.count(1)"
   ]
  },
  {
   "cell_type": "markdown",
   "id": "cfa5aef4",
   "metadata": {},
   "source": [
    "# Sets\n",
    "it will keep only unic elements"
   ]
  },
  {
   "cell_type": "code",
   "execution_count": 59,
   "id": "7158b1ec",
   "metadata": {},
   "outputs": [
    {
     "data": {
      "text/plain": [
       "set"
      ]
     },
     "execution_count": 59,
     "metadata": {},
     "output_type": "execute_result"
    }
   ],
   "source": [
    "s=set()\n",
    "type(s)"
   ]
  },
  {
   "cell_type": "code",
   "execution_count": 60,
   "id": "d48ae257",
   "metadata": {},
   "outputs": [],
   "source": [
    "s.add(1)\n",
    "s.add(2)"
   ]
  },
  {
   "cell_type": "code",
   "execution_count": 61,
   "id": "9edb5d4f",
   "metadata": {},
   "outputs": [
    {
     "data": {
      "text/plain": [
       "{1, 2}"
      ]
     },
     "execution_count": 61,
     "metadata": {},
     "output_type": "execute_result"
    }
   ],
   "source": [
    "s"
   ]
  },
  {
   "cell_type": "code",
   "execution_count": 62,
   "id": "f51e8ebf",
   "metadata": {},
   "outputs": [
    {
     "data": {
      "text/plain": [
       "{1, 2}"
      ]
     },
     "execution_count": 62,
     "metadata": {},
     "output_type": "execute_result"
    }
   ],
   "source": [
    "s.add(1)\n",
    "s"
   ]
  },
  {
   "cell_type": "code",
   "execution_count": 63,
   "id": "dc524fdf",
   "metadata": {},
   "outputs": [],
   "source": [
    "l=[1,5,7,8,8,3,5,4,6,7,9,2,7,1,2,1,5,5,4]"
   ]
  },
  {
   "cell_type": "code",
   "execution_count": 64,
   "id": "402947e2",
   "metadata": {},
   "outputs": [
    {
     "data": {
      "text/plain": [
       "{1, 2, 3, 4, 5, 6, 7, 8, 9}"
      ]
     },
     "execution_count": 64,
     "metadata": {},
     "output_type": "execute_result"
    }
   ],
   "source": [
    "set(l) #remove all duplicate and set in order"
   ]
  },
  {
   "cell_type": "markdown",
   "id": "5e4de6c1",
   "metadata": {},
   "source": [
    "# Dictionaries\n",
    "1.{}\n",
    "2.{'key1':'value1','key2':'value2'}\n"
   ]
  },
  {
   "cell_type": "code",
   "execution_count": 65,
   "id": "2d232c88",
   "metadata": {},
   "outputs": [
    {
     "data": {
      "text/plain": [
       "{'key1': 'value1', 'key2': 'value2'}"
      ]
     },
     "execution_count": 65,
     "metadata": {},
     "output_type": "execute_result"
    }
   ],
   "source": [
    "my_dic= {'key1':'value1','key2':'value2'}\n",
    "my_dic"
   ]
  },
  {
   "cell_type": "code",
   "execution_count": 66,
   "id": "1e307567",
   "metadata": {},
   "outputs": [
    {
     "data": {
      "text/plain": [
       "'value2'"
      ]
     },
     "execution_count": 66,
     "metadata": {},
     "output_type": "execute_result"
    }
   ],
   "source": [
    "my_dic['key2']"
   ]
  },
  {
   "cell_type": "code",
   "execution_count": 67,
   "id": "20232114",
   "metadata": {},
   "outputs": [],
   "source": [
    "mydisc={'rollno':1996,'marks':[75,78,89,90],'subject':['scince','computer','hindi','math']}"
   ]
  },
  {
   "cell_type": "code",
   "execution_count": 68,
   "id": "34776d05",
   "metadata": {},
   "outputs": [
    {
     "data": {
      "text/plain": [
       "['scince', 'computer', 'hindi', 'math']"
      ]
     },
     "execution_count": 68,
     "metadata": {},
     "output_type": "execute_result"
    }
   ],
   "source": [
    "mydisc['subject']"
   ]
  },
  {
   "cell_type": "code",
   "execution_count": 69,
   "id": "3cad05f7",
   "metadata": {},
   "outputs": [
    {
     "data": {
      "text/plain": [
       "'hindi'"
      ]
     },
     "execution_count": 69,
     "metadata": {},
     "output_type": "execute_result"
    }
   ],
   "source": [
    "mydisc['subject'][2]"
   ]
  },
  {
   "cell_type": "code",
   "execution_count": 70,
   "id": "b020d112",
   "metadata": {},
   "outputs": [
    {
     "data": {
      "text/plain": [
       "89"
      ]
     },
     "execution_count": 70,
     "metadata": {},
     "output_type": "execute_result"
    }
   ],
   "source": [
    "mydisc['marks'][2]"
   ]
  },
  {
   "cell_type": "code",
   "execution_count": 71,
   "id": "50678d67",
   "metadata": {},
   "outputs": [
    {
     "data": {
      "text/plain": [
       "'COMPUTER'"
      ]
     },
     "execution_count": 71,
     "metadata": {},
     "output_type": "execute_result"
    }
   ],
   "source": [
    "mydisc['subject'][1].upper()"
   ]
  },
  {
   "cell_type": "code",
   "execution_count": 72,
   "id": "94ac07e1",
   "metadata": {},
   "outputs": [
    {
     "data": {
      "text/plain": [
       "[75, 78, 94, 90]"
      ]
     },
     "execution_count": 72,
     "metadata": {},
     "output_type": "execute_result"
    }
   ],
   "source": [
    "#update data\n",
    "mydisc['marks'][2]=mydisc['marks'][2]+5\n",
    "\n",
    "#check\n",
    "mydisc['marks']"
   ]
  },
  {
   "cell_type": "code",
   "execution_count": 73,
   "id": "f7257b64",
   "metadata": {},
   "outputs": [
    {
     "data": {
      "text/plain": [
       "[75, 78, 95, 90]"
      ]
     },
     "execution_count": 73,
     "metadata": {},
     "output_type": "execute_result"
    }
   ],
   "source": [
    "#update data\n",
    "mydisc['marks'][2]=95\n",
    "\n",
    "#check\n",
    "mydisc['marks']"
   ]
  },
  {
   "cell_type": "code",
   "execution_count": 74,
   "id": "7b2d762e",
   "metadata": {},
   "outputs": [
    {
     "data": {
      "text/plain": [
       "[75, 78, 94, 90]"
      ]
     },
     "execution_count": 74,
     "metadata": {},
     "output_type": "execute_result"
    }
   ],
   "source": [
    "#update data\n",
    "mydisc['marks'][2] -=1\n",
    "\n",
    "\n",
    "#check\n",
    "mydisc['marks']"
   ]
  },
  {
   "cell_type": "code",
   "execution_count": 75,
   "id": "bf2b907f",
   "metadata": {},
   "outputs": [
    {
     "data": {
      "text/plain": [
       "{}"
      ]
     },
     "execution_count": 75,
     "metadata": {},
     "output_type": "execute_result"
    }
   ],
   "source": [
    "d={}\n",
    "d"
   ]
  },
  {
   "cell_type": "code",
   "execution_count": 76,
   "id": "c78a1c20",
   "metadata": {},
   "outputs": [
    {
     "data": {
      "text/plain": [
       "{'marks': (10, 15, 20)}"
      ]
     },
     "execution_count": 76,
     "metadata": {},
     "output_type": "execute_result"
    }
   ],
   "source": [
    "d['marks']= 10,15,20\n",
    "d"
   ]
  },
  {
   "cell_type": "code",
   "execution_count": 77,
   "id": "254c4217",
   "metadata": {},
   "outputs": [
    {
     "data": {
      "text/plain": [
       "{'marks': (10, 15, 20), 'roolno': 101}"
      ]
     },
     "execution_count": 77,
     "metadata": {},
     "output_type": "execute_result"
    }
   ],
   "source": [
    "d['roolno']= 101\n",
    "d"
   ]
  },
  {
   "cell_type": "code",
   "execution_count": 78,
   "id": "d1a9b691",
   "metadata": {},
   "outputs": [
    {
     "data": {
      "text/plain": [
       "{'marks': (10, 15, 20), 'roolno': 101, 'sub': ('aa', 'bb', 'cc')}"
      ]
     },
     "execution_count": 78,
     "metadata": {},
     "output_type": "execute_result"
    }
   ],
   "source": [
    "d['sub']= 'aa','bb','cc'\n",
    "d"
   ]
  },
  {
   "cell_type": "code",
   "execution_count": 79,
   "id": "b99ab4f2",
   "metadata": {},
   "outputs": [
    {
     "data": {
      "text/plain": [
       "dict_keys(['marks', 'roolno', 'sub'])"
      ]
     },
     "execution_count": 79,
     "metadata": {},
     "output_type": "execute_result"
    }
   ],
   "source": [
    "d.keys()"
   ]
  },
  {
   "cell_type": "code",
   "execution_count": 80,
   "id": "9e9046e4",
   "metadata": {},
   "outputs": [
    {
     "data": {
      "text/plain": [
       "dict_values([(10, 15, 20), 101, ('aa', 'bb', 'cc')])"
      ]
     },
     "execution_count": 80,
     "metadata": {},
     "output_type": "execute_result"
    }
   ],
   "source": [
    "d.values()"
   ]
  },
  {
   "cell_type": "code",
   "execution_count": 81,
   "id": "238840b3",
   "metadata": {},
   "outputs": [
    {
     "data": {
      "text/plain": [
       "dict_items([('marks', (10, 15, 20)), ('roolno', 101), ('sub', ('aa', 'bb', 'cc'))])"
      ]
     },
     "execution_count": 81,
     "metadata": {},
     "output_type": "execute_result"
    }
   ],
   "source": [
    "d.items()\n"
   ]
  },
  {
   "cell_type": "code",
   "execution_count": null,
   "id": "b2485dd4",
   "metadata": {},
   "outputs": [],
   "source": []
  }
 ],
 "metadata": {
  "kernelspec": {
   "display_name": "Python 3",
   "language": "python",
   "name": "python3"
  },
  "language_info": {
   "codemirror_mode": {
    "name": "ipython",
    "version": 3
   },
   "file_extension": ".py",
   "mimetype": "text/x-python",
   "name": "python",
   "nbconvert_exporter": "python",
   "pygments_lexer": "ipython3",
   "version": "3.8.8"
  }
 },
 "nbformat": 4,
 "nbformat_minor": 5
}
